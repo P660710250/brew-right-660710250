{
  "nbformat": 4,
  "nbformat_minor": 0,
  "metadata": {
    "colab": {
      "provenance": [],
      "gpuType": "T4"
    },
    "kernelspec": {
      "name": "python3",
      "display_name": "Python 3"
    },
    "language_info": {
      "name": "python"
    },
    "accelerator": "GPU"
  },
  "cells": [
    {
      "cell_type": "code",
      "execution_count": 77,
      "metadata": {
        "colab": {
          "base_uri": "https://localhost:8080/"
        },
        "id": "WDoF4-sse3qk",
        "outputId": "b4fb4e23-593c-4e10-fc1d-d73e16b1fa7f"
      },
      "outputs": [
        {
          "output_type": "stream",
          "name": "stdout",
          "text": [
            "Requirement already satisfied: resampy in /usr/local/lib/python3.12/dist-packages (0.4.3)\n",
            "Requirement already satisfied: numpy>=1.17 in /usr/local/lib/python3.12/dist-packages (from resampy) (2.0.2)\n",
            "Requirement already satisfied: numba>=0.53 in /usr/local/lib/python3.12/dist-packages (from resampy) (0.60.0)\n",
            "Requirement already satisfied: llvmlite<0.44,>=0.43.0dev0 in /usr/local/lib/python3.12/dist-packages (from numba>=0.53->resampy) (0.43.0)\n"
          ]
        }
      ],
      "source": [
        "pip install resampy"
      ]
    },
    {
      "cell_type": "code",
      "source": [
        "from google.colab import drive\n",
        "drive.mount('/content/drive')\n",
        "\n",
        "import os"
      ],
      "metadata": {
        "colab": {
          "base_uri": "https://localhost:8080/"
        },
        "id": "aW360QYhgO41",
        "outputId": "3c689929-5981-4fd7-c625-7dffd2fc9a56"
      },
      "execution_count": 78,
      "outputs": [
        {
          "output_type": "stream",
          "name": "stdout",
          "text": [
            "Drive already mounted at /content/drive; to attempt to forcibly remount, call drive.mount(\"/content/drive\", force_remount=True).\n"
          ]
        }
      ]
    },
    {
      "cell_type": "code",
      "source": [
        "print(os.getcwd())"
      ],
      "metadata": {
        "colab": {
          "base_uri": "https://localhost:8080/"
        },
        "id": "RWA3y18JghKI",
        "outputId": "55925452-d337-4ff2-95e6-6e3bffb1644c"
      },
      "execution_count": 79,
      "outputs": [
        {
          "output_type": "stream",
          "name": "stdout",
          "text": [
            "/content\n"
          ]
        }
      ]
    },
    {
      "cell_type": "code",
      "source": [
        "data_path = '/content/drive/MyDrive/DST'\n",
        "print(os.listdir(data_path))"
      ],
      "metadata": {
        "colab": {
          "base_uri": "https://localhost:8080/"
        },
        "id": "uvr8K2ZignWv",
        "outputId": "6fe6c008-904a-4c81-c63b-f5c719efdbe9"
      },
      "execution_count": 80,
      "outputs": [
        {
          "output_type": "stream",
          "name": "stdout",
          "text": [
            "['test', 'train', 'val']\n"
          ]
        }
      ]
    },
    {
      "cell_type": "code",
      "source": [
        "filelist = os.listdir(data_path)\n",
        "\n",
        "for filename in filelist:\n",
        "  print(filename)"
      ],
      "metadata": {
        "colab": {
          "base_uri": "https://localhost:8080/"
        },
        "id": "oBYS34kGgy33",
        "outputId": "236edceb-b074-4ed2-c90c-5c8eec09c257"
      },
      "execution_count": 81,
      "outputs": [
        {
          "output_type": "stream",
          "name": "stdout",
          "text": [
            "test\n",
            "train\n",
            "val\n"
          ]
        }
      ]
    },
    {
      "cell_type": "code",
      "source": [
        "%matplotlib inline\n",
        "\n",
        "from pathlib import Path\n",
        "import numpy as np\n",
        "import matplotlib.pyplot as plt\n",
        "import sklearn\n",
        "from tensorflow.keras.utils import to_categorical\n",
        "#from sklearn.model_selection import train_test_split\n",
        "from pickle import dump\n",
        "from pickle import load\n",
        "import plotly\n",
        "import plotly.graph_objs as go\n",
        "from tensorflow.keras.models import Model\n",
        "from tensorflow.keras.models import Sequential\n",
        "from tensorflow.keras.layers import Dropout\n",
        "from tensorflow.keras.layers import Activation\n",
        "from tensorflow.keras.layers import LeakyReLU\n",
        "from tensorflow.keras.layers import Dense\n",
        "from tensorflow.keras.optimizers import Adam\n",
        "from tensorflow.keras.layers import Input"
      ],
      "metadata": {
        "id": "zaeWm5Aag1TC"
      },
      "execution_count": 82,
      "outputs": []
    },
    {
      "cell_type": "code",
      "source": [
        "test_data = data_path+\"/test\"\n",
        "os.listdir(test_data)"
      ],
      "metadata": {
        "colab": {
          "base_uri": "https://localhost:8080/"
        },
        "id": "aXtBFpKlg9kO",
        "outputId": "ab92787d-66fc-482d-a27e-e4126c02b357"
      },
      "execution_count": 83,
      "outputs": [
        {
          "output_type": "execute_result",
          "data": {
            "text/plain": [
              "['a_00000057_5000.wav',\n",
              " 'a_00000099_5000.wav',\n",
              " 'a_00000126_5000.wav',\n",
              " 'a_00000055_5000.wav',\n",
              " 'a_00000020_0.wav',\n",
              " 'a_00000125_5000.wav',\n",
              " 'a_00000019_0.wav',\n",
              " 'a_00000053_5000.wav',\n",
              " 'a_00000124_0.wav',\n",
              " 'a_00000088_5000.wav',\n",
              " 'a_00000077_0.wav',\n",
              " 'a_00000075_0.wav',\n",
              " 'a_00000074_0.wav',\n",
              " 'a_00000101_0.wav',\n",
              " 'a_00000078_5000.wav',\n",
              " 'a_00000001_5000.wav',\n",
              " 'a_00000065_0.wav',\n",
              " 'a_00000090_0.wav',\n",
              " 'a_00000028_0.wav',\n",
              " 'a_00000027_5000.wav',\n",
              " 'n_00000377_0.wav',\n",
              " 'a_00000080_0.wav',\n",
              " 'a_00000011_0.wav',\n",
              " 'a_00000011_5000.wav',\n",
              " 'n_00000377_5000.wav',\n",
              " 'a_00000067_5000.wav',\n",
              " 'a_00000087_0.wav',\n",
              " 'a_00000098_0.wav',\n",
              " 'a_00000085_5000.wav',\n",
              " 'a_00000068_0.wav',\n",
              " 'a_00000035_0.wav',\n",
              " 'a_00000033_0.wav',\n",
              " 'a_00000133_0.wav',\n",
              " 'a_00000027_0.wav',\n",
              " 'a_00000066_0.wav',\n",
              " 'a_00000038_0.wav',\n",
              " 'a_00000073_0.wav',\n",
              " 'a_00000083_0.wav',\n",
              " 'a_00000094_5000.wav',\n",
              " 'a_00000076_0.wav',\n",
              " 'a_00000030_5000.wav',\n",
              " 'a_00000099_0.wav',\n",
              " 'a_00000025_5000.wav',\n",
              " 'a_00000043_0.wav',\n",
              " 'a_00000091_0.wav',\n",
              " 'a_00000017_5000.wav',\n",
              " 'a_00000137_0.wav',\n",
              " 'a_00000124_5000.wav',\n",
              " 'a_00000100_0.wav',\n",
              " 'a_00000023_5000.wav',\n",
              " 'a_00000122_5000.wav',\n",
              " 'a_00000052_0.wav',\n",
              " 'a_00000105_0.wav',\n",
              " 'a_00000003_5000.wav',\n",
              " 'a_00000026_5000.wav',\n",
              " 'n_00000322_5000.wav',\n",
              " 'n_00000323_5000.wav',\n",
              " 'a_00000005_0.wav',\n",
              " 'n_00000320_5000.wav',\n",
              " 'n_00000359_0.wav',\n",
              " 'n_00000299_0.wav',\n",
              " 'n_00000227_5000.wav',\n",
              " 'n_00000371_0.wav',\n",
              " 'n_00000362_5000.wav',\n",
              " 'n_00000330_0.wav',\n",
              " 'n_00000290_0.wav',\n",
              " 'n_00000229_5000.wav',\n",
              " 'n_00000369_0.wav',\n",
              " 'n_00000355_0.wav',\n",
              " 'n_00000365_5000.wav',\n",
              " 'n_00000336_5000.wav',\n",
              " 'n_00000347_0.wav',\n",
              " 'n_00000338_5000.wav',\n",
              " 'n_00000310_0.wav',\n",
              " 'n_00000262_0.wav',\n",
              " 'n_00000292_5000.wav',\n",
              " 'n_00000273_0.wav',\n",
              " 'n_00000329_5000.wav',\n",
              " 'n_00000376_5000.wav',\n",
              " 'n_00000218_0.wav',\n",
              " 'n_00000282_0.wav',\n",
              " 'n_00000345_5000.wav',\n",
              " 'n_00000217_0.wav',\n",
              " 'n_00000359_5000.wav',\n",
              " 'n_00000270_0.wav',\n",
              " 'n_00000246_5000.wav',\n",
              " 'n_00000353_0.wav',\n",
              " 'n_00000277_0.wav',\n",
              " 'n_00000291_5000.wav',\n",
              " 'n_00000267_5000.wav',\n",
              " 'n_00000251_0.wav',\n",
              " 'n_00000208_5000.wav',\n",
              " 'n_00000320_0.wav',\n",
              " 'n_00000263_5000.wav',\n",
              " 'n_00000324_0.wav',\n",
              " 'n_00000274_5000.wav',\n",
              " 'n_00000223_0.wav',\n",
              " 'n_00000292_0.wav',\n",
              " 'n_00000365_0.wav',\n",
              " 'n_00000308_0.wav',\n",
              " 'n_00000316_0.wav',\n",
              " 'n_00000287_5000.wav',\n",
              " 'n_00000380_0.wav',\n",
              " 'n_00000231_0.wav',\n",
              " 'n_00000249_5000.wav',\n",
              " 'n_00000334_5000.wav',\n",
              " 'n_00000308_5000.wav',\n",
              " 'n_00000264_0.wav',\n",
              " 'n_00000302_5000.wav',\n",
              " 'n_00000317_0.wav',\n",
              " 'n_00000312_5000.wav',\n",
              " 'n_00000255_5000.wav',\n",
              " 'n_00000213_5000.wav',\n",
              " 'n_00000329_0.wav',\n",
              " 'n_00000360_0.wav',\n",
              " 'n_00000342_0.wav',\n",
              " 'n_00000309_5000.wav',\n",
              " 'n_00000256_0.wav',\n",
              " 'n_00000243_0.wav',\n",
              " 'n_00000318_5000.wav',\n",
              " 'n_00000177_5000.wav',\n",
              " 'n_00000152_5000.wav',\n",
              " 'n_00000151_5000.wav',\n",
              " 'n_00000066_5000.wav',\n",
              " 'n_00000097_5000.wav',\n",
              " 'n_00000111_0.wav',\n",
              " 'n_00000079_0.wav',\n",
              " 'n_00000113_5000.wav',\n",
              " 'n_00000158_0.wav',\n",
              " 'n_00000077_0.wav',\n",
              " 'n_00000202_5000.wav',\n",
              " 'n_00000095_0.wav',\n",
              " 'n_00000167_0.wav',\n",
              " 'n_00000129_5000.wav',\n",
              " 'n_00000147_0.wav',\n",
              " 'n_00000112_5000.wav',\n",
              " 'n_00000082_0.wav',\n",
              " 'n_00000116_0.wav',\n",
              " 'n_00000131_5000.wav',\n",
              " 'n_00000126_0.wav',\n",
              " 'n_00000159_5000.wav',\n",
              " 'n_00000080_0.wav',\n",
              " 'n_00000209_5000.wav',\n",
              " 'n_00000079_5000.wav',\n",
              " 'n_00000062_0.wav',\n",
              " 'n_00000166_0.wav',\n",
              " 'n_00000142_5000.wav',\n",
              " 'n_00000088_0.wav',\n",
              " 'n_00000053_0.wav',\n",
              " 'n_00000160_5000.wav',\n",
              " 'n_00000174_5000.wav',\n",
              " 'n_00000071_5000.wav',\n",
              " 'n_00000164_5000.wav',\n",
              " 'n_00000065_5000.wav',\n",
              " 'n_00000094_0.wav',\n",
              " 'n_00000161_0.wav',\n",
              " 'n_00000067_5000.wav',\n",
              " 'n_00000186_5000.wav',\n",
              " 'n_00000063_5000.wav',\n",
              " 'n_00000096_5000.wav',\n",
              " 'n_00000213_0.wav',\n",
              " 'n_00000171_0.wav',\n",
              " 'n_00000143_0.wav',\n",
              " 'n_00000067_0.wav',\n",
              " 'n_00000085_0.wav',\n",
              " 'n_00000127_5000.wav',\n",
              " 'n_00000100_5000.wav',\n",
              " 'n_00000135_5000.wav',\n",
              " 'n_00000166_5000.wav',\n",
              " 'n_00000187_0.wav',\n",
              " 'n_00000055_0.wav',\n",
              " 'n_00000179_0.wav',\n",
              " 'n_00000126_5000.wav',\n",
              " 'n_00000173_5000.wav',\n",
              " 'n_00000169_0.wav',\n",
              " 'n_00000120_5000.wav',\n",
              " 'n_00000184_0.wav',\n",
              " 'n_00000083_5000.wav',\n",
              " 'n_00000096_0.wav',\n",
              " 'n_00000133_5000.wav',\n",
              " 'n_00000104_0.wav',\n",
              " 'n_00000105_0.wav',\n",
              " 'n_00000066_0.wav',\n",
              " 'n_00000086_5000.wav',\n",
              " 'n_00000022_5000.wav',\n",
              " 'n_00000064_5000.wav',\n",
              " 'n_00000011_0.wav',\n",
              " 'n_00000006_0.wav',\n",
              " 'n_00000020_5000.wav',\n",
              " 'n_00000043_5000.wav',\n",
              " 'n_00000039_5000.wav',\n",
              " 'n_00000019_0.wav',\n",
              " 'n_00000034_0.wav',\n",
              " 'n_00000006_5000.wav',\n",
              " 'n_00000004_5000.wav',\n",
              " 'n_00000052_5000.wav',\n",
              " 'n_00000014_5000.wav',\n",
              " 'n_00000028_0.wav',\n",
              " 'n_00000044_0.wav',\n",
              " 'n_00000000_0.wav',\n",
              " 'n_00000023_5000.wav',\n",
              " 'n_00000049_5000.wav',\n",
              " 'n_00000013_0.wav',\n",
              " 'n_00000003_5000.wav',\n",
              " 'n_00000015_5000.wav',\n",
              " 'n_00000055_5000.wav',\n",
              " 'n_00000009_0.wav',\n",
              " 'n_00000018_0.wav']"
            ]
          },
          "metadata": {},
          "execution_count": 83
        }
      ]
    },
    {
      "cell_type": "code",
      "source": [
        "val_data = data_path+\"/val\"\n",
        "os.listdir(val_data)"
      ],
      "metadata": {
        "colab": {
          "base_uri": "https://localhost:8080/"
        },
        "id": "586KC6NAhDCL",
        "outputId": "8b4c0011-329d-4e10-f363-972f041f5daa"
      },
      "execution_count": 84,
      "outputs": [
        {
          "output_type": "execute_result",
          "data": {
            "text/plain": [
              "['a_00000130_5000.wav',\n",
              " 'a_00000135_5000.wav',\n",
              " 'n_00000326_5000.wav',\n",
              " 'a_00000088_0.wav',\n",
              " 'a_00000096_5000.wav',\n",
              " 'n_00000289_5000.wav',\n",
              " 'a_00000018_5000.wav',\n",
              " 'a_00000007_0.wav',\n",
              " 'a_00000035_5000.wav',\n",
              " 'a_00000074_5000.wav',\n",
              " 'a_00000106_5000.wav',\n",
              " 'n_00000368_5000.wav',\n",
              " 'a_00000116_0.wav',\n",
              " 'a_00000129_5000.wav',\n",
              " 'a_00000024_0.wav',\n",
              " 'a_00000058_0.wav',\n",
              " 'a_00000125_0.wav',\n",
              " 'n_00000376_0.wav',\n",
              " 'n_00000371_5000.wav',\n",
              " 'a_00000032_5000.wav',\n",
              " 'a_00000042_5000.wav',\n",
              " 'a_00000064_5000.wav',\n",
              " 'n_00000341_5000.wav',\n",
              " 'a_00000010_0.wav',\n",
              " 'a_00000036_0.wav',\n",
              " 'a_00000008_5000.wav',\n",
              " 'a_00000022_0.wav',\n",
              " 'n_00000366_5000.wav',\n",
              " 'a_00000102_5000.wav',\n",
              " 'n_00000335_0.wav',\n",
              " 'n_00000341_0.wav',\n",
              " 'a_00000045_0.wav',\n",
              " 'n_00000363_5000.wav',\n",
              " 'a_00000117_5000.wav',\n",
              " 'a_00000100_5000.wav',\n",
              " 'a_00000062_0.wav',\n",
              " 'a_00000072_0.wav',\n",
              " 'n_00000338_0.wav',\n",
              " 'a_00000001_0.wav',\n",
              " 'n_00000346_0.wav',\n",
              " 'n_00000301_0.wav',\n",
              " 'a_00000013_5000.wav',\n",
              " 'a_00000028_5000.wav',\n",
              " 'n_00000295_5000.wav',\n",
              " 'a_00000104_5000.wav',\n",
              " 'a_00000114_0.wav',\n",
              " 'a_00000093_5000.wav',\n",
              " 'a_00000082_0.wav',\n",
              " 'a_00000123_5000.wav',\n",
              " 'n_00000290_5000.wav',\n",
              " 'a_00000120_0.wav',\n",
              " 'a_00000079_0.wav',\n",
              " 'a_00000016_0.wav',\n",
              " 'n_00000335_5000.wav',\n",
              " 'a_00000003_0.wav',\n",
              " 'a_00000115_5000.wav',\n",
              " 'n_00000342_5000.wav',\n",
              " 'a_00000063_0.wav',\n",
              " 'a_00000047_5000.wav',\n",
              " 'a_00000053_0.wav',\n",
              " 'a_00000041_5000.wav',\n",
              " 'a_00000031_0.wav',\n",
              " 'n_00000324_5000.wav',\n",
              " 'n_00000325_5000.wav',\n",
              " 'a_00000012_0.wav',\n",
              " 'a_00000031_5000.wav',\n",
              " 'n_00000370_0.wav',\n",
              " 'n_00000372_5000.wav',\n",
              " 'n_00000192_0.wav',\n",
              " 'n_00000149_5000.wav',\n",
              " 'n_00000192_5000.wav',\n",
              " 'n_00000156_5000.wav',\n",
              " 'n_00000176_0.wav',\n",
              " 'n_00000319_5000.wav',\n",
              " 'n_00000265_0.wav',\n",
              " 'n_00000177_0.wav',\n",
              " 'n_00000281_0.wav',\n",
              " 'n_00000109_0.wav',\n",
              " 'n_00000307_5000.wav',\n",
              " 'n_00000219_5000.wav',\n",
              " 'n_00000327_0.wav',\n",
              " 'n_00000137_0.wav',\n",
              " 'n_00000244_0.wav',\n",
              " 'n_00000229_0.wav',\n",
              " 'n_00000225_5000.wav',\n",
              " 'n_00000212_5000.wav',\n",
              " 'n_00000294_5000.wav',\n",
              " 'n_00000105_5000.wav',\n",
              " 'n_00000304_0.wav',\n",
              " 'n_00000145_0.wav',\n",
              " 'n_00000156_0.wav',\n",
              " 'n_00000233_5000.wav',\n",
              " 'n_00000136_5000.wav',\n",
              " 'n_00000271_5000.wav',\n",
              " 'n_00000222_5000.wav',\n",
              " 'n_00000258_0.wav',\n",
              " 'n_00000232_0.wav',\n",
              " 'n_00000134_0.wav',\n",
              " 'n_00000170_0.wav',\n",
              " 'n_00000198_5000.wav',\n",
              " 'n_00000168_0.wav',\n",
              " 'n_00000165_0.wav',\n",
              " 'n_00000255_0.wav',\n",
              " 'n_00000205_5000.wav',\n",
              " 'n_00000128_5000.wav',\n",
              " 'n_00000254_0.wav',\n",
              " 'n_00000181_0.wav',\n",
              " 'n_00000230_5000.wav',\n",
              " 'n_00000300_0.wav',\n",
              " 'n_00000279_5000.wav',\n",
              " 'n_00000298_5000.wav',\n",
              " 'n_00000108_5000.wav',\n",
              " 'n_00000279_0.wav',\n",
              " 'n_00000165_5000.wav',\n",
              " 'n_00000128_0.wav',\n",
              " 'n_00000269_5000.wav',\n",
              " 'n_00000258_5000.wav',\n",
              " 'n_00000194_0.wav',\n",
              " 'n_00000167_5000.wav',\n",
              " 'n_00000340_0.wav',\n",
              " 'n_00000272_5000.wav',\n",
              " 'n_00000141_0.wav',\n",
              " 'n_00000289_0.wav',\n",
              " 'n_00000161_5000.wav',\n",
              " 'n_00000203_5000.wav',\n",
              " 'n_00000210_5000.wav',\n",
              " 'n_00000202_0.wav',\n",
              " 'n_00000140_0.wav',\n",
              " 'n_00000189_5000.wav',\n",
              " 'n_00000240_5000.wav',\n",
              " 'n_00000175_5000.wav',\n",
              " 'n_00000275_0.wav',\n",
              " 'n_00000146_0.wav',\n",
              " 'n_00000283_0.wav',\n",
              " 'n_00000256_5000.wav',\n",
              " 'n_00000061_5000.wav',\n",
              " 'n_00000148_0.wav',\n",
              " 'n_00000010_0.wav',\n",
              " 'n_00000043_0.wav',\n",
              " 'n_00000130_5000.wav',\n",
              " 'n_00000075_5000.wav',\n",
              " 'n_00000037_0.wav',\n",
              " 'n_00000117_5000.wav',\n",
              " 'n_00000030_5000.wav',\n",
              " 'n_00000099_5000.wav',\n",
              " 'n_00000028_5000.wav',\n",
              " 'n_00000060_0.wav',\n",
              " 'n_00000026_5000.wav',\n",
              " 'n_00000025_0.wav',\n",
              " 'n_00000090_0.wav',\n",
              " 'n_00000046_0.wav',\n",
              " 'n_00000027_5000.wav',\n",
              " 'n_00000050_5000.wav',\n",
              " 'n_00000052_0.wav',\n",
              " 'n_00000087_0.wav',\n",
              " 'n_00000115_0.wav',\n",
              " 'n_00000098_0.wav',\n",
              " 'n_00000092_5000.wav',\n",
              " 'n_00000078_5000.wav',\n",
              " 'n_00000076_5000.wav',\n",
              " 'n_00000081_0.wav',\n",
              " 'n_00000072_0.wav',\n",
              " 'n_00000032_5000.wav',\n",
              " 'n_00000110_5000.wav',\n",
              " 'n_00000009_5000.wav',\n",
              " 'n_00000085_5000.wav']"
            ]
          },
          "metadata": {},
          "execution_count": 84
        }
      ]
    },
    {
      "cell_type": "code",
      "source": [
        "normal_val = val_data+\"/n_*.wav\"\n",
        "abnormal_val = val_data+\"/a_*.wav\""
      ],
      "metadata": {
        "id": "8JYqU3eOhFhi"
      },
      "execution_count": 85,
      "outputs": []
    },
    {
      "cell_type": "code",
      "source": [
        "normal_test = test_data+\"/n_*.wav\"\n",
        "abnormal_test = test_data+\"/a_*.wav\""
      ],
      "metadata": {
        "id": "FayhRgMAhInN"
      },
      "execution_count": 86,
      "outputs": []
    },
    {
      "cell_type": "code",
      "source": [
        "normal_test"
      ],
      "metadata": {
        "colab": {
          "base_uri": "https://localhost:8080/",
          "height": 35
        },
        "id": "nZBWJJfYhKBd",
        "outputId": "06321360-20f1-44d4-be4b-0f6ad4546d05"
      },
      "execution_count": 87,
      "outputs": [
        {
          "output_type": "execute_result",
          "data": {
            "text/plain": [
              "'/content/drive/MyDrive/DST/test/n_*.wav'"
            ],
            "application/vnd.google.colaboratory.intrinsic+json": {
              "type": "string"
            }
          },
          "metadata": {},
          "execution_count": 87
        }
      ]
    },
    {
      "cell_type": "code",
      "source": [
        "normal_val"
      ],
      "metadata": {
        "colab": {
          "base_uri": "https://localhost:8080/",
          "height": 35
        },
        "id": "WYZyvFvAhSsO",
        "outputId": "8631eb67-90b9-4b1e-cf4d-cf0ff0df2a41"
      },
      "execution_count": 88,
      "outputs": [
        {
          "output_type": "execute_result",
          "data": {
            "text/plain": [
              "'/content/drive/MyDrive/DST/val/n_*.wav'"
            ],
            "application/vnd.google.colaboratory.intrinsic+json": {
              "type": "string"
            }
          },
          "metadata": {},
          "execution_count": 88
        }
      ]
    },
    {
      "cell_type": "code",
      "source": [
        "import librosa\n",
        "import librosa.display"
      ],
      "metadata": {
        "id": "cBuURTTKhVaI"
      },
      "execution_count": 89,
      "outputs": []
    },
    {
      "cell_type": "code",
      "source": [
        "import glob\n",
        "\n",
        "normal_test_signals = [\n",
        "    librosa.load(p)[0] for p in glob.glob(normal_test)\n",
        "]\n",
        "\n",
        "abnormal_test_signals = [\n",
        "    librosa.load(p)[0] for p in glob.glob(abnormal_test)\n",
        "]\n",
        "\n",
        "normal_val_signals = [\n",
        "    librosa.load(p)[0] for p in glob.glob(normal_val)\n",
        "]\n",
        "\n",
        "abnormal_val_signals = [\n",
        "    librosa.load(p)[0] for p in glob.glob(abnormal_val)\n",
        "]"
      ],
      "metadata": {
        "id": "sOkDU4baiO5f"
      },
      "execution_count": 90,
      "outputs": []
    },
    {
      "cell_type": "code",
      "source": [
        "print(\"Shape of normal_test_signals:\", np.array(normal_test_signals, dtype=object).shape)\n",
        "print(\"Shape of abnormal_test_signals:\", np.array(abnormal_test_signals, dtype=object).shape)\n",
        "print(\"Shape of normal_val_signals:\", np.array(normal_val_signals, dtype=object).shape)\n",
        "print(\"Shape of abnormal_val_signals:\", np.array(abnormal_val_signals, dtype=object).shape)"
      ],
      "metadata": {
        "colab": {
          "base_uri": "https://localhost:8080/"
        },
        "id": "jUbX8YwkiRKG",
        "outputId": "fdce1e44-0f87-4a48-a2a6-deeeb7a172f6"
      },
      "execution_count": 91,
      "outputs": [
        {
          "output_type": "stream",
          "name": "stdout",
          "text": [
            "Shape of normal_test_signals: (154, 110250)\n",
            "Shape of abnormal_test_signals: (54, 110250)\n",
            "Shape of normal_val_signals: (119, 110250)\n",
            "Shape of abnormal_val_signals: (47, 110250)\n"
          ]
        }
      ]
    },
    {
      "cell_type": "code",
      "source": [
        "def save_dataset(dataset, filename):\n",
        "    dump(dataset, open(filename, 'wb'))\n",
        "    print('Saved: %s' % filename)"
      ],
      "metadata": {
        "id": "Cj6wA1T1icl9"
      },
      "execution_count": 92,
      "outputs": []
    },
    {
      "cell_type": "code",
      "source": [
        "datasetFile = 'coffee_test.pkl'\n",
        "save_dataset([normal_test_signals, abnormal_test_signals], datasetFile)"
      ],
      "metadata": {
        "colab": {
          "base_uri": "https://localhost:8080/"
        },
        "id": "nLCV5GmpifA5",
        "outputId": "aebf6b9d-b2df-461c-e2bd-248aa63aa42d"
      },
      "execution_count": 93,
      "outputs": [
        {
          "output_type": "stream",
          "name": "stdout",
          "text": [
            "Saved: coffee_test.pkl\n"
          ]
        }
      ]
    },
    {
      "cell_type": "code",
      "source": [
        "datasetFile_val = 'coffee_val.pkl'\n",
        "save_dataset([normal_val_signals, abnormal_val_signals], datasetFile_val)"
      ],
      "metadata": {
        "colab": {
          "base_uri": "https://localhost:8080/"
        },
        "id": "EFsPv2nAihye",
        "outputId": "95af8c66-307e-42b9-c7ad-e2b46924a18d"
      },
      "execution_count": 94,
      "outputs": [
        {
          "output_type": "stream",
          "name": "stdout",
          "text": [
            "Saved: coffee_val.pkl\n"
          ]
        }
      ]
    },
    {
      "cell_type": "code",
      "source": [
        "def load_dataset(filename):\n",
        "    return load(open(filename, 'rb'))\n",
        "\n",
        "[normal_test_signals, abnormal_test_signals] = load_dataset(datasetFile)"
      ],
      "metadata": {
        "id": "3XkmZ3EoilTm"
      },
      "execution_count": 95,
      "outputs": []
    },
    {
      "cell_type": "code",
      "source": [
        "len(normal_test_signals), len(abnormal_test_signals)"
      ],
      "metadata": {
        "colab": {
          "base_uri": "https://localhost:8080/"
        },
        "id": "5TwzL4sPjLv3",
        "outputId": "27752603-6b3b-4076-95b7-e0bdf147f570"
      },
      "execution_count": 96,
      "outputs": [
        {
          "output_type": "execute_result",
          "data": {
            "text/plain": [
              "(154, 54)"
            ]
          },
          "metadata": {},
          "execution_count": 96
        }
      ]
    },
    {
      "cell_type": "code",
      "source": [
        "[normal_val_signals, abnormal_val_signals] = load_dataset(datasetFile_val)"
      ],
      "metadata": {
        "id": "5LO2Fen9jOhi"
      },
      "execution_count": 97,
      "outputs": []
    },
    {
      "cell_type": "code",
      "source": [
        "len(normal_val_signals), len(abnormal_val_signals)"
      ],
      "metadata": {
        "colab": {
          "base_uri": "https://localhost:8080/"
        },
        "id": "Ic3cSdbzjQmE",
        "outputId": "9db1881e-8961-475c-8038-e7a2745f80f3"
      },
      "execution_count": 98,
      "outputs": [
        {
          "output_type": "execute_result",
          "data": {
            "text/plain": [
              "(119, 47)"
            ]
          },
          "metadata": {},
          "execution_count": 98
        }
      ]
    },
    {
      "cell_type": "code",
      "source": [
        "plt.figure(figsize=(15, 6))\n",
        "for i, x in enumerate(normal_test_signals[:10]):\n",
        "    plt.subplot(2, 5, i+1)\n",
        "    librosa.display.waveshow(x[:10000])\n",
        "    plt.ylim(-1, 1)"
      ],
      "metadata": {
        "colab": {
          "base_uri": "https://localhost:8080/",
          "height": 547
        },
        "id": "3R95-UAijR-f",
        "outputId": "65a451dc-b668-4996-88f5-08afdd2a0389"
      },
      "execution_count": 99,
      "outputs": [
        {
          "output_type": "display_data",
          "data": {
            "text/plain": [
              "<Figure size 1500x600 with 10 Axes>"
            ],
            "image/png": "[encoded data removed]"
          },
          "metadata": {}
        }
      ]
    },
    {
      "cell_type": "code",
      "source": [
        "plt.figure(figsize=(15, 6))\n",
        "for i, x in enumerate(abnormal_test_signals[:10]):\n",
        "    plt.subplot(2, 5, i+1)\n",
        "    librosa.display.waveshow(x[:10000])\n",
        "    plt.ylim(-1, 1)"
      ],
      "metadata": {
        "colab": {
          "base_uri": "https://localhost:8080/",
          "height": 547
        },
        "id": "Tdq3UKPWjUl1",
        "outputId": "ac4c6b75-0fd7-452d-a2e4-34cea8e5bb8a"
      },
      "execution_count": 100,
      "outputs": [
        {
          "output_type": "display_data",
          "data": {
            "text/plain": [
              "<Figure size 1500x600 with 10 Axes>"
            ],
            "image/png": "[encoded data removed]"
          },
          "metadata": {}
        }
      ]
    },
    {
      "cell_type": "code",
      "source": [
        "def extract_features(signal):\n",
        "    return [\n",
        "        librosa.feature.zero_crossing_rate(signal)[0, 0],\n",
        "        librosa.feature.spectral_centroid(y=signal)[0, 0],\n",
        "    ]"
      ],
      "metadata": {
        "id": "ROQdm751jbVE"
      },
      "execution_count": 101,
      "outputs": []
    },
    {
      "cell_type": "code",
      "source": [
        "def extract_features(signal):\n",
        "    return [\n",
        "        librosa.feature.zero_crossing_rate(signal)[0, 0],\n",
        "        librosa.feature.spectral_centroid(y=signal)[0, 0],\n",
        "    ]"
      ],
      "metadata": {
        "id": "MyEEsjNZjhfS"
      },
      "execution_count": 102,
      "outputs": []
    },
    {
      "cell_type": "code",
      "source": [
        "normal_val_features = np.array([extract_features(x) for x in normal_val_signals])\n",
        "abnormal_val_features = np.array([extract_features(x) for x in abnormal_val_signals])"
      ],
      "metadata": {
        "id": "ZVgZ0eqijn1M"
      },
      "execution_count": 103,
      "outputs": []
    },
    {
      "cell_type": "code",
      "source": [
        "normal_test_features = np.array([extract_features(x) for x in normal_test_signals])\n",
        "abnormal_test_features = np.array([extract_features(x) for x in abnormal_test_signals])"
      ],
      "metadata": {
        "id": "v6k2MS9Zjjh3"
      },
      "execution_count": 104,
      "outputs": []
    },
    {
      "cell_type": "code",
      "source": [
        "print(normal_test_features.shape)\n",
        "print(abnormal_test_features.shape)\n",
        "print(normal_val_features.shape)\n",
        "print(abnormal_val_features.shape)"
      ],
      "metadata": {
        "colab": {
          "base_uri": "https://localhost:8080/"
        },
        "id": "_QtaFZpjjlcL",
        "outputId": "90090724-27d6-47bf-9714-8eaa9eedc89b"
      },
      "execution_count": 105,
      "outputs": [
        {
          "output_type": "stream",
          "name": "stdout",
          "text": [
            "(154, 2)\n",
            "(54, 2)\n",
            "(119, 2)\n",
            "(47, 2)\n"
          ]
        }
      ]
    },
    {
      "cell_type": "code",
      "source": [
        "print(normal_test_features[10])\n",
        "print(abnormal_test_features[10])\n",
        "print(normal_val_features[10])\n",
        "print(abnormal_val_features[10])"
      ],
      "metadata": {
        "colab": {
          "base_uri": "https://localhost:8080/"
        },
        "id": "rRof2gfejrHM",
        "outputId": "d3fd0a3d-ea53-41e4-aca5-1e00061d6dc8"
      },
      "execution_count": 106,
      "outputs": [
        {
          "output_type": "stream",
          "name": "stdout",
          "text": [
            "[4.15039062e-02 1.60556549e+03]\n",
            "[4.10156250e-02 2.06946393e+03]\n",
            "[4.15039062e-02 1.76527587e+03]\n",
            "[3.46679688e-02 1.44163207e+03]\n"
          ]
        }
      ]
    },
    {
      "cell_type": "code",
      "source": [
        "plt.figure(figsize=(14, 5))\n",
        "plt.hist(normal_test_features[:,0], color='b', range=(0, 0.2), alpha=0.5, bins=20)\n",
        "plt.hist(abnormal_test_features[:,0], color='r', range=(0, 0.2), alpha=0.5, bins=20)\n",
        "plt.legend(('normal', 'abnormal'))\n",
        "plt.xlabel('Zero Crossing Rate')\n",
        "plt.ylabel('Count')"
      ],
      "metadata": {
        "colab": {
          "base_uri": "https://localhost:8080/",
          "height": 482
        },
        "id": "7Hz3PXmajsv9",
        "outputId": "63fc2968-97d1-4e91-c13d-0d81ad5f1f6e"
      },
      "execution_count": 107,
      "outputs": [
        {
          "output_type": "execute_result",
          "data": {
            "text/plain": [
              "Text(0, 0.5, 'Count')"
            ]
          },
          "metadata": {},
          "execution_count": 107
        },
        {
          "output_type": "display_data",
          "data": {
            "text/plain": [
              "<Figure size 1400x500 with 1 Axes>"
            ],
            "image/png": "[encoded data removed]"
          },
          "metadata": {}
        }
      ]
    },
    {
      "cell_type": "code",
      "source": [
        "plt.figure(figsize=(14, 5))\n",
        "plt.hist(normal_test_features[:,1], color='b', range=(0, 4000), bins=30, alpha=0.6)\n",
        "plt.hist(abnormal_test_features[:,1], color='r', range=(0, 4000), bins=30, alpha=0.6)\n",
        "plt.legend(('normal', 'abnormal'))\n",
        "plt.xlabel('Spectral Centroid (frequency bin)')\n",
        "plt.ylabel('Count')"
      ],
      "metadata": {
        "colab": {
          "base_uri": "https://localhost:8080/",
          "height": 482
        },
        "id": "moPJBw-DjukK",
        "outputId": "5aace9ae-cecc-43c4-c9c0-d27a7271f51b"
      },
      "execution_count": 108,
      "outputs": [
        {
          "output_type": "execute_result",
          "data": {
            "text/plain": [
              "Text(0, 0.5, 'Count')"
            ]
          },
          "metadata": {},
          "execution_count": 108
        },
        {
          "output_type": "display_data",
          "data": {
            "text/plain": [
              "<Figure size 1400x500 with 1 Axes>"
            ],
            "image/png": "[encoded data removed]"
          },
          "metadata": {}
        }
      ]
    },
    {
      "cell_type": "code",
      "source": [
        "feature_val_table = np.vstack((normal_val_features, abnormal_val_features))\n",
        "print(feature_val_table.shape)"
      ],
      "metadata": {
        "colab": {
          "base_uri": "https://localhost:8080/"
        },
        "id": "DiRXXuDHjwJt",
        "outputId": "68040192-05a7-47b2-9797-6357bd068a55"
      },
      "execution_count": 109,
      "outputs": [
        {
          "output_type": "stream",
          "name": "stdout",
          "text": [
            "(166, 2)\n"
          ]
        }
      ]
    },
    {
      "cell_type": "code",
      "source": [
        "feature_test_table = np.vstack((normal_test_features, abnormal_test_features))\n",
        "print(feature_test_table.shape)"
      ],
      "metadata": {
        "colab": {
          "base_uri": "https://localhost:8080/"
        },
        "id": "0RVJo0djhPyF",
        "outputId": "85cc4de3-51f5-451c-df7e-982fb1d7d18b"
      },
      "execution_count": 110,
      "outputs": [
        {
          "output_type": "stream",
          "name": "stdout",
          "text": [
            "(208, 2)\n"
          ]
        }
      ]
    },
    {
      "cell_type": "code",
      "source": [
        "scaler = sklearn.preprocessing.MinMaxScaler(feature_range=(-1, 1))\n",
        "testing_features = scaler.fit_transform(feature_test_table)\n",
        "print(testing_features.min(axis=0))\n",
        "print(testing_features.max(axis=0))"
      ],
      "metadata": {
        "colab": {
          "base_uri": "https://localhost:8080/"
        },
        "id": "LEs3kTfHhNRl",
        "outputId": "83daba09-22ba-4e34-9773-6e125fc0553b"
      },
      "execution_count": 111,
      "outputs": [
        {
          "output_type": "stream",
          "name": "stdout",
          "text": [
            "[-1. -1.]\n",
            "[1. 1.]\n"
          ]
        }
      ]
    },
    {
      "cell_type": "code",
      "source": [
        "scaler = sklearn.preprocessing.MinMaxScaler(feature_range=(-1, 1))\n",
        "val_features = scaler.fit_transform(feature_val_table)\n",
        "print(val_features.min(axis=0))\n",
        "print(val_features.max(axis=0))"
      ],
      "metadata": {
        "colab": {
          "base_uri": "https://localhost:8080/"
        },
        "id": "2fhB8ClKj09a",
        "outputId": "5a55bf16-e0b2-4489-d54e-4ef9c3844648"
      },
      "execution_count": 112,
      "outputs": [
        {
          "output_type": "stream",
          "name": "stdout",
          "text": [
            "[-1. -1.]\n",
            "[1. 1.]\n"
          ]
        }
      ]
    },
    {
      "cell_type": "code",
      "source": [
        "plt.scatter(testing_features[:489,0], testing_features[:489,1], c='b')\n",
        "plt.scatter(testing_features[489:,0], testing_features[489:,1], c='r')\n",
        "plt.xlabel('Zero Crossing Rate')\n",
        "plt.ylabel('Spectral Centroid')"
      ],
      "metadata": {
        "colab": {
          "base_uri": "https://localhost:8080/",
          "height": 466
        },
        "id": "hWfYSuHNj3KN",
        "outputId": "ec874e38-6965-4b4f-d094-302ef07a484e"
      },
      "execution_count": 113,
      "outputs": [
        {
          "output_type": "execute_result",
          "data": {
            "text/plain": [
              "Text(0, 0.5, 'Spectral Centroid')"
            ]
          },
          "metadata": {},
          "execution_count": 113
        },
        {
          "output_type": "display_data",
          "data": {
            "text/plain": [
              "<Figure size 640x480 with 1 Axes>"
            ],
            "image/png": "[encoded data removed]"
          },
          "metadata": {}
        }
      ]
    },
    {
      "cell_type": "code",
      "source": [
        "y_test_total = [0 for i in range(len(normal_test_signals))] + [1 for i in range(len(abnormal_test_signals))]\n",
        "y_val_total = [0 for i in range(len(normal_val_signals))] + [1 for i in range(len(abnormal_val_signals))]"
      ],
      "metadata": {
        "id": "Vn-2T6q0j4r8"
      },
      "execution_count": 114,
      "outputs": []
    },
    {
      "cell_type": "code",
      "source": [
        "y_test_encoded = to_categorical(y_test_total)\n",
        "y_val_encoded = to_categorical(y_val_total)"
      ],
      "metadata": {
        "id": "r0bw9LWoj_Q2"
      },
      "execution_count": 115,
      "outputs": []
    },
    {
      "cell_type": "code",
      "source": [
        "y_test_encoded[:10]"
      ],
      "metadata": {
        "colab": {
          "base_uri": "https://localhost:8080/"
        },
        "id": "5jC3w1jvkAjX",
        "outputId": "cdf8485a-9fa1-4f0d-a174-8ebca481dced"
      },
      "execution_count": 116,
      "outputs": [
        {
          "output_type": "execute_result",
          "data": {
            "text/plain": [
              "array([[1., 0.],\n",
              "       [1., 0.],\n",
              "       [1., 0.],\n",
              "       [1., 0.],\n",
              "       [1., 0.],\n",
              "       [1., 0.],\n",
              "       [1., 0.],\n",
              "       [1., 0.],\n",
              "       [1., 0.],\n",
              "       [1., 0.]])"
            ]
          },
          "metadata": {},
          "execution_count": 116
        }
      ]
    },
    {
      "cell_type": "code",
      "source": [
        "x_test = testing_features\n",
        "y_test = y_test_encoded\n",
        "x_val = val_features\n",
        "y_val = y_val_encoded"
      ],
      "metadata": {
        "id": "jVcYAPJ1kB6l"
      },
      "execution_count": 117,
      "outputs": []
    },
    {
      "cell_type": "code",
      "source": [
        "x_test.shape, y_test.shape"
      ],
      "metadata": {
        "colab": {
          "base_uri": "https://localhost:8080/"
        },
        "id": "uHwcj7fbkDhi",
        "outputId": "8d4e5e75-8d50-479a-9608-4df025c71bb3"
      },
      "execution_count": 118,
      "outputs": [
        {
          "output_type": "execute_result",
          "data": {
            "text/plain": [
              "((208, 2), (208, 2))"
            ]
          },
          "metadata": {},
          "execution_count": 118
        }
      ]
    },
    {
      "cell_type": "code",
      "source": [
        "from tensorflow.keras.models import Model\n",
        "from tensorflow.keras.models import Sequential\n",
        "\n",
        "from tensorflow.keras.layers import Dropout\n",
        "from tensorflow.keras.layers import Activation\n",
        "from tensorflow.keras.layers import LeakyReLU\n",
        "from tensorflow.keras.layers import Dense\n",
        "from tensorflow.keras.optimizers import Adam\n",
        "from tensorflow.keras.layers import Input\n",
        "from tensorflow.keras.layers import Conv2D, MaxPooling2D, GlobalAveragePooling2D"
      ],
      "metadata": {
        "id": "_fmG2WOgkEyD"
      },
      "execution_count": 119,
      "outputs": []
    },
    {
      "cell_type": "code",
      "source": [
        "def create_model():\n",
        "    model = Sequential()\n",
        "    model.add(Input(shape=(2,)))\n",
        "    model.add(Dense(8))\n",
        "    model.add(LeakyReLU(negative_slope=0.1))\n",
        "    model.add(Dropout(0.2))\n",
        "    model.add(Dense(2, activation='softmax'))\n",
        "    return model"
      ],
      "metadata": {
        "id": "jhY899wskPG-"
      },
      "execution_count": 120,
      "outputs": []
    },
    {
      "cell_type": "code",
      "source": [
        "model = create_model()\n",
        "model.summary()\n",
        "adam_optim = Adam(learning_rate=0.0001)\n",
        "model.compile(optimizer=adam_optim, loss='categorical_crossentropy', metrics=['accuracy'])"
      ],
      "metadata": {
        "colab": {
          "base_uri": "https://localhost:8080/",
          "height": 257
        },
        "id": "17z97yUakQpa",
        "outputId": "fdb06650-d16d-443e-80e1-fb9f7149a9b8"
      },
      "execution_count": 121,
      "outputs": [
        {
          "output_type": "display_data",
          "data": {
            "text/plain": [
              "\u001b[1mModel: \"sequential_2\"\u001b[0m\n"
            ],
            "text/html": [
              "<pre style=\"white-space:pre;overflow-x:auto;line-height:normal;font-family:Menlo,'DejaVu Sans Mono',consolas,'Courier New',monospace\"><span style=\"font-weight: bold\">Model: \"sequential_2\"</span>\n",
              "</pre>\n"
            ]
          },
          "metadata": {}
        },
        {
          "output_type": "display_data",
          "data": {
            "text/plain": [
              "┏━━━━━━━━━━━━━━━━━━━━━━━━━━━━━━━━━┳━━━━━━━━━━━━━━━━━━━━━━━━┳━━━━━━━━━━━━━━━┓\n",
              "┃\u001b[1m \u001b[0m\u001b[1mLayer (type)                   \u001b[0m\u001b[1m \u001b[0m┃\u001b[1m \u001b[0m\u001b[1mOutput Shape          \u001b[0m\u001b[1m \u001b[0m┃\u001b[1m \u001b[0m\u001b[1m      Param #\u001b[0m\u001b[1m \u001b[0m┃\n",
              "┡━━━━━━━━━━━━━━━━━━━━━━━━━━━━━━━━━╇━━━━━━━━━━━━━━━━━━━━━━━━╇━━━━━━━━━━━━━━━┩\n",
              "│ dense_3 (\u001b[38;5;33mDense\u001b[0m)                 │ (\u001b[38;5;45mNone\u001b[0m, \u001b[38;5;34m8\u001b[0m)              │            \u001b[38;5;34m24\u001b[0m │\n",
              "├─────────────────────────────────┼────────────────────────┼───────────────┤\n",
              "│ leaky_re_lu_1 (\u001b[38;5;33mLeakyReLU\u001b[0m)       │ (\u001b[38;5;45mNone\u001b[0m, \u001b[38;5;34m8\u001b[0m)              │             \u001b[38;5;34m0\u001b[0m │\n",
              "├─────────────────────────────────┼────────────────────────┼───────────────┤\n",
              "│ dropout_5 (\u001b[38;5;33mDropout\u001b[0m)             │ (\u001b[38;5;45mNone\u001b[0m, \u001b[38;5;34m8\u001b[0m)              │             \u001b[38;5;34m0\u001b[0m │\n",
              "├─────────────────────────────────┼────────────────────────┼───────────────┤\n",
              "│ dense_4 (\u001b[38;5;33mDense\u001b[0m)                 │ (\u001b[38;5;45mNone\u001b[0m, \u001b[38;5;34m2\u001b[0m)              │            \u001b[38;5;34m18\u001b[0m │\n",
              "└─────────────────────────────────┴────────────────────────┴───────────────┘\n"
            ],
            "text/html": [
              "<pre style=\"white-space:pre;overflow-x:auto;line-height:normal;font-family:Menlo,'DejaVu Sans Mono',consolas,'Courier New',monospace\">┏━━━━━━━━━━━━━━━━━━━━━━━━━━━━━━━━━┳━━━━━━━━━━━━━━━━━━━━━━━━┳━━━━━━━━━━━━━━━┓\n",
              "┃<span style=\"font-weight: bold\"> Layer (type)                    </span>┃<span style=\"font-weight: bold\"> Output Shape           </span>┃<span style=\"font-weight: bold\">       Param # </span>┃\n",
              "┡━━━━━━━━━━━━━━━━━━━━━━━━━━━━━━━━━╇━━━━━━━━━━━━━━━━━━━━━━━━╇━━━━━━━━━━━━━━━┩\n",
              "│ dense_3 (<span style=\"color: #0087ff; text-decoration-color: #0087ff\">Dense</span>)                 │ (<span style=\"color: #00d7ff; text-decoration-color: #00d7ff\">None</span>, <span style=\"color: #00af00; text-decoration-color: #00af00\">8</span>)              │            <span style=\"color: #00af00; text-decoration-color: #00af00\">24</span> │\n",
              "├─────────────────────────────────┼────────────────────────┼───────────────┤\n",
              "│ leaky_re_lu_1 (<span style=\"color: #0087ff; text-decoration-color: #0087ff\">LeakyReLU</span>)       │ (<span style=\"color: #00d7ff; text-decoration-color: #00d7ff\">None</span>, <span style=\"color: #00af00; text-decoration-color: #00af00\">8</span>)              │             <span style=\"color: #00af00; text-decoration-color: #00af00\">0</span> │\n",
              "├─────────────────────────────────┼────────────────────────┼───────────────┤\n",
              "│ dropout_5 (<span style=\"color: #0087ff; text-decoration-color: #0087ff\">Dropout</span>)             │ (<span style=\"color: #00d7ff; text-decoration-color: #00d7ff\">None</span>, <span style=\"color: #00af00; text-decoration-color: #00af00\">8</span>)              │             <span style=\"color: #00af00; text-decoration-color: #00af00\">0</span> │\n",
              "├─────────────────────────────────┼────────────────────────┼───────────────┤\n",
              "│ dense_4 (<span style=\"color: #0087ff; text-decoration-color: #0087ff\">Dense</span>)                 │ (<span style=\"color: #00d7ff; text-decoration-color: #00d7ff\">None</span>, <span style=\"color: #00af00; text-decoration-color: #00af00\">2</span>)              │            <span style=\"color: #00af00; text-decoration-color: #00af00\">18</span> │\n",
              "└─────────────────────────────────┴────────────────────────┴───────────────┘\n",
              "</pre>\n"
            ]
          },
          "metadata": {}
        },
        {
          "output_type": "display_data",
          "data": {
            "text/plain": [
              "\u001b[1m Total params: \u001b[0m\u001b[38;5;34m42\u001b[0m (168.00 B)\n"
            ],
            "text/html": [
              "<pre style=\"white-space:pre;overflow-x:auto;line-height:normal;font-family:Menlo,'DejaVu Sans Mono',consolas,'Courier New',monospace\"><span style=\"font-weight: bold\"> Total params: </span><span style=\"color: #00af00; text-decoration-color: #00af00\">42</span> (168.00 B)\n",
              "</pre>\n"
            ]
          },
          "metadata": {}
        },
        {
          "output_type": "display_data",
          "data": {
            "text/plain": [
              "\u001b[1m Trainable params: \u001b[0m\u001b[38;5;34m42\u001b[0m (168.00 B)\n"
            ],
            "text/html": [
              "<pre style=\"white-space:pre;overflow-x:auto;line-height:normal;font-family:Menlo,'DejaVu Sans Mono',consolas,'Courier New',monospace\"><span style=\"font-weight: bold\"> Trainable params: </span><span style=\"color: #00af00; text-decoration-color: #00af00\">42</span> (168.00 B)\n",
              "</pre>\n"
            ]
          },
          "metadata": {}
        },
        {
          "output_type": "display_data",
          "data": {
            "text/plain": [
              "\u001b[1m Non-trainable params: \u001b[0m\u001b[38;5;34m0\u001b[0m (0.00 B)\n"
            ],
            "text/html": [
              "<pre style=\"white-space:pre;overflow-x:auto;line-height:normal;font-family:Menlo,'DejaVu Sans Mono',consolas,'Courier New',monospace\"><span style=\"font-weight: bold\"> Non-trainable params: </span><span style=\"color: #00af00; text-decoration-color: #00af00\">0</span> (0.00 B)\n",
              "</pre>\n"
            ]
          },
          "metadata": {}
        }
      ]
    },
    {
      "cell_type": "code",
      "source": [
        "his = model.fit(\n",
        "    x_test,\n",
        "    y_test,\n",
        "    batch_size=1,\n",
        "    epochs=100,\n",
        "    verbose=1,\n",
        "    validation_data = (x_val, y_val)\n",
        ")"
      ],
      "metadata": {
        "colab": {
          "base_uri": "https://localhost:8080/"
        },
        "id": "h4OApZqvkTZR",
        "outputId": "f7a73ca0-2e1b-41e9-f1c2-a17276babf54"
      },
      "execution_count": 122,
      "outputs": [
        {
          "output_type": "stream",
          "name": "stdout",
          "text": [
            "Epoch 1/100\n",
            "\u001b[1m208/208\u001b[0m \u001b[32m━━━━━━━━━━━━━━━━━━━━\u001b[0m\u001b[37m\u001b[0m \u001b[1m3s\u001b[0m 5ms/step - accuracy: 0.3392 - loss: 0.8094 - val_accuracy: 0.2831 - val_loss: 0.8965\n",
            "Epoch 2/100\n",
            "\u001b[1m208/208\u001b[0m \u001b[32m━━━━━━━━━━━━━━━━━━━━\u001b[0m\u001b[37m\u001b[0m \u001b[1m1s\u001b[0m 4ms/step - accuracy: 0.4301 - loss: 0.7461 - val_accuracy: 0.2892 - val_loss: 0.8580\n",
            "Epoch 3/100\n",
            "\u001b[1m208/208\u001b[0m \u001b[32m━━━━━━━━━━━━━━━━━━━━\u001b[0m\u001b[37m\u001b[0m \u001b[1m1s\u001b[0m 4ms/step - accuracy: 0.4908 - loss: 0.7383 - val_accuracy: 0.2892 - val_loss: 0.8262\n",
            "Epoch 4/100\n",
            "\u001b[1m208/208\u001b[0m \u001b[32m━━━━━━━━━━━━━━━━━━━━\u001b[0m\u001b[37m\u001b[0m \u001b[1m1s\u001b[0m 4ms/step - accuracy: 0.5094 - loss: 0.7064 - val_accuracy: 0.2952 - val_loss: 0.7992\n",
            "Epoch 5/100\n",
            "\u001b[1m208/208\u001b[0m \u001b[32m━━━━━━━━━━━━━━━━━━━━\u001b[0m\u001b[37m\u001b[0m \u001b[1m1s\u001b[0m 4ms/step - accuracy: 0.5482 - loss: 0.7155 - val_accuracy: 0.3133 - val_loss: 0.7760\n",
            "Epoch 6/100\n",
            "\u001b[1m208/208\u001b[0m \u001b[32m━━━━━━━━━━━━━━━━━━━━\u001b[0m\u001b[37m\u001b[0m \u001b[1m1s\u001b[0m 4ms/step - accuracy: 0.6532 - loss: 0.6923 - val_accuracy: 0.3193 - val_loss: 0.7561\n",
            "Epoch 7/100\n",
            "\u001b[1m208/208\u001b[0m \u001b[32m━━━━━━━━━━━━━━━━━━━━\u001b[0m\u001b[37m\u001b[0m \u001b[1m1s\u001b[0m 4ms/step - accuracy: 0.6666 - loss: 0.6668 - val_accuracy: 0.3554 - val_loss: 0.7369\n",
            "Epoch 8/100\n",
            "\u001b[1m208/208\u001b[0m \u001b[32m━━━━━━━━━━━━━━━━━━━━\u001b[0m\u001b[37m\u001b[0m \u001b[1m1s\u001b[0m 4ms/step - accuracy: 0.6772 - loss: 0.6692 - val_accuracy: 0.4096 - val_loss: 0.7212\n",
            "Epoch 9/100\n",
            "\u001b[1m208/208\u001b[0m \u001b[32m━━━━━━━━━━━━━━━━━━━━\u001b[0m\u001b[37m\u001b[0m \u001b[1m1s\u001b[0m 4ms/step - accuracy: 0.6772 - loss: 0.6628 - val_accuracy: 0.4699 - val_loss: 0.7083\n",
            "Epoch 10/100\n",
            "\u001b[1m208/208\u001b[0m \u001b[32m━━━━━━━━━━━━━━━━━━━━\u001b[0m\u001b[37m\u001b[0m \u001b[1m1s\u001b[0m 4ms/step - accuracy: 0.6962 - loss: 0.6509 - val_accuracy: 0.4940 - val_loss: 0.6969\n",
            "Epoch 11/100\n",
            "\u001b[1m208/208\u001b[0m \u001b[32m━━━━━━━━━━━━━━━━━━━━\u001b[0m\u001b[37m\u001b[0m \u001b[1m1s\u001b[0m 4ms/step - accuracy: 0.7847 - loss: 0.6088 - val_accuracy: 0.5241 - val_loss: 0.6878\n",
            "Epoch 12/100\n",
            "\u001b[1m208/208\u001b[0m \u001b[32m━━━━━━━━━━━━━━━━━━━━\u001b[0m\u001b[37m\u001b[0m \u001b[1m1s\u001b[0m 4ms/step - accuracy: 0.7443 - loss: 0.6207 - val_accuracy: 0.5783 - val_loss: 0.6788\n",
            "Epoch 13/100\n",
            "\u001b[1m208/208\u001b[0m \u001b[32m━━━━━━━━━━━━━━━━━━━━\u001b[0m\u001b[37m\u001b[0m \u001b[1m1s\u001b[0m 5ms/step - accuracy: 0.7310 - loss: 0.6247 - val_accuracy: 0.6265 - val_loss: 0.6710\n",
            "Epoch 14/100\n",
            "\u001b[1m208/208\u001b[0m \u001b[32m━━━━━━━━━━━━━━━━━━━━\u001b[0m\u001b[37m\u001b[0m \u001b[1m1s\u001b[0m 6ms/step - accuracy: 0.7230 - loss: 0.6430 - val_accuracy: 0.6506 - val_loss: 0.6648\n",
            "Epoch 15/100\n",
            "\u001b[1m208/208\u001b[0m \u001b[32m━━━━━━━━━━━━━━━━━━━━\u001b[0m\u001b[37m\u001b[0m \u001b[1m1s\u001b[0m 4ms/step - accuracy: 0.7969 - loss: 0.6060 - val_accuracy: 0.6687 - val_loss: 0.6594\n",
            "Epoch 16/100\n",
            "\u001b[1m208/208\u001b[0m \u001b[32m━━━━━━━━━━━━━━━━━━━━\u001b[0m\u001b[37m\u001b[0m \u001b[1m1s\u001b[0m 4ms/step - accuracy: 0.7377 - loss: 0.6119 - val_accuracy: 0.6807 - val_loss: 0.6545\n",
            "Epoch 17/100\n",
            "\u001b[1m208/208\u001b[0m \u001b[32m━━━━━━━━━━━━━━━━━━━━\u001b[0m\u001b[37m\u001b[0m \u001b[1m1s\u001b[0m 4ms/step - accuracy: 0.7038 - loss: 0.6289 - val_accuracy: 0.6807 - val_loss: 0.6505\n",
            "Epoch 18/100\n",
            "\u001b[1m208/208\u001b[0m \u001b[32m━━━━━━━━━━━━━━━━━━━━\u001b[0m\u001b[37m\u001b[0m \u001b[1m1s\u001b[0m 4ms/step - accuracy: 0.7525 - loss: 0.6113 - val_accuracy: 0.6867 - val_loss: 0.6474\n",
            "Epoch 19/100\n",
            "\u001b[1m208/208\u001b[0m \u001b[32m━━━━━━━━━━━━━━━━━━━━\u001b[0m\u001b[37m\u001b[0m \u001b[1m1s\u001b[0m 4ms/step - accuracy: 0.7547 - loss: 0.6085 - val_accuracy: 0.6867 - val_loss: 0.6441\n",
            "Epoch 20/100\n",
            "\u001b[1m208/208\u001b[0m \u001b[32m━━━━━━━━━━━━━━━━━━━━\u001b[0m\u001b[37m\u001b[0m \u001b[1m1s\u001b[0m 4ms/step - accuracy: 0.7618 - loss: 0.5821 - val_accuracy: 0.6928 - val_loss: 0.6414\n",
            "Epoch 21/100\n",
            "\u001b[1m208/208\u001b[0m \u001b[32m━━━━━━━━━━━━━━━━━━━━\u001b[0m\u001b[37m\u001b[0m \u001b[1m1s\u001b[0m 4ms/step - accuracy: 0.8064 - loss: 0.5467 - val_accuracy: 0.6928 - val_loss: 0.6394\n",
            "Epoch 22/100\n",
            "\u001b[1m208/208\u001b[0m \u001b[32m━━━━━━━━━━━━━━━━━━━━\u001b[0m\u001b[37m\u001b[0m \u001b[1m1s\u001b[0m 4ms/step - accuracy: 0.6913 - loss: 0.6256 - val_accuracy: 0.6928 - val_loss: 0.6378\n",
            "Epoch 23/100\n",
            "\u001b[1m208/208\u001b[0m \u001b[32m━━━━━━━━━━━━━━━━━━━━\u001b[0m\u001b[37m\u001b[0m \u001b[1m1s\u001b[0m 4ms/step - accuracy: 0.7579 - loss: 0.6079 - val_accuracy: 0.7048 - val_loss: 0.6357\n",
            "Epoch 24/100\n",
            "\u001b[1m208/208\u001b[0m \u001b[32m━━━━━━━━━━━━━━━━━━━━\u001b[0m\u001b[37m\u001b[0m \u001b[1m1s\u001b[0m 4ms/step - accuracy: 0.7471 - loss: 0.6039 - val_accuracy: 0.7048 - val_loss: 0.6335\n",
            "Epoch 25/100\n",
            "\u001b[1m208/208\u001b[0m \u001b[32m━━━━━━━━━━━━━━━━━━━━\u001b[0m\u001b[37m\u001b[0m \u001b[1m1s\u001b[0m 4ms/step - accuracy: 0.7334 - loss: 0.6043 - val_accuracy: 0.7048 - val_loss: 0.6325\n",
            "Epoch 26/100\n",
            "\u001b[1m208/208\u001b[0m \u001b[32m━━━━━━━━━━━━━━━━━━━━\u001b[0m\u001b[37m\u001b[0m \u001b[1m1s\u001b[0m 4ms/step - accuracy: 0.7341 - loss: 0.6186 - val_accuracy: 0.7048 - val_loss: 0.6313\n",
            "Epoch 27/100\n",
            "\u001b[1m208/208\u001b[0m \u001b[32m━━━━━━━━━━━━━━━━━━━━\u001b[0m\u001b[37m\u001b[0m \u001b[1m1s\u001b[0m 4ms/step - accuracy: 0.6961 - loss: 0.6199 - val_accuracy: 0.7048 - val_loss: 0.6298\n",
            "Epoch 28/100\n",
            "\u001b[1m208/208\u001b[0m \u001b[32m━━━━━━━━━━━━━━━━━━━━\u001b[0m\u001b[37m\u001b[0m \u001b[1m1s\u001b[0m 5ms/step - accuracy: 0.7804 - loss: 0.5786 - val_accuracy: 0.7048 - val_loss: 0.6287\n",
            "Epoch 29/100\n",
            "\u001b[1m208/208\u001b[0m \u001b[32m━━━━━━━━━━━━━━━━━━━━\u001b[0m\u001b[37m\u001b[0m \u001b[1m1s\u001b[0m 6ms/step - accuracy: 0.7492 - loss: 0.5836 - val_accuracy: 0.7108 - val_loss: 0.6275\n",
            "Epoch 30/100\n",
            "\u001b[1m208/208\u001b[0m \u001b[32m━━━━━━━━━━━━━━━━━━━━\u001b[0m\u001b[37m\u001b[0m \u001b[1m1s\u001b[0m 5ms/step - accuracy: 0.7297 - loss: 0.6021 - val_accuracy: 0.7169 - val_loss: 0.6266\n",
            "Epoch 31/100\n",
            "\u001b[1m208/208\u001b[0m \u001b[32m━━━━━━━━━━━━━━━━━━━━\u001b[0m\u001b[37m\u001b[0m \u001b[1m1s\u001b[0m 4ms/step - accuracy: 0.7564 - loss: 0.5802 - val_accuracy: 0.7169 - val_loss: 0.6252\n",
            "Epoch 32/100\n",
            "\u001b[1m208/208\u001b[0m \u001b[32m━━━━━━━━━━━━━━━━━━━━\u001b[0m\u001b[37m\u001b[0m \u001b[1m1s\u001b[0m 4ms/step - accuracy: 0.7979 - loss: 0.5589 - val_accuracy: 0.7169 - val_loss: 0.6242\n",
            "Epoch 33/100\n",
            "\u001b[1m208/208\u001b[0m \u001b[32m━━━━━━━━━━━━━━━━━━━━\u001b[0m\u001b[37m\u001b[0m \u001b[1m1s\u001b[0m 4ms/step - accuracy: 0.7499 - loss: 0.5925 - val_accuracy: 0.7169 - val_loss: 0.6232\n",
            "Epoch 34/100\n",
            "\u001b[1m208/208\u001b[0m \u001b[32m━━━━━━━━━━━━━━━━━━━━\u001b[0m\u001b[37m\u001b[0m \u001b[1m1s\u001b[0m 4ms/step - accuracy: 0.8182 - loss: 0.5406 - val_accuracy: 0.7169 - val_loss: 0.6224\n",
            "Epoch 35/100\n",
            "\u001b[1m208/208\u001b[0m \u001b[32m━━━━━━━━━━━━━━━━━━━━\u001b[0m\u001b[37m\u001b[0m \u001b[1m1s\u001b[0m 4ms/step - accuracy: 0.7943 - loss: 0.5530 - val_accuracy: 0.7169 - val_loss: 0.6214\n",
            "Epoch 36/100\n",
            "\u001b[1m208/208\u001b[0m \u001b[32m━━━━━━━━━━━━━━━━━━━━\u001b[0m\u001b[37m\u001b[0m \u001b[1m1s\u001b[0m 4ms/step - accuracy: 0.7642 - loss: 0.5698 - val_accuracy: 0.7169 - val_loss: 0.6203\n",
            "Epoch 37/100\n",
            "\u001b[1m208/208\u001b[0m \u001b[32m━━━━━━━━━━━━━━━━━━━━\u001b[0m\u001b[37m\u001b[0m \u001b[1m1s\u001b[0m 4ms/step - accuracy: 0.7554 - loss: 0.5708 - val_accuracy: 0.7169 - val_loss: 0.6199\n",
            "Epoch 38/100\n",
            "\u001b[1m208/208\u001b[0m \u001b[32m━━━━━━━━━━━━━━━━━━━━\u001b[0m\u001b[37m\u001b[0m \u001b[1m1s\u001b[0m 4ms/step - accuracy: 0.7671 - loss: 0.5888 - val_accuracy: 0.7169 - val_loss: 0.6189\n",
            "Epoch 39/100\n",
            "\u001b[1m208/208\u001b[0m \u001b[32m━━━━━━━━━━━━━━━━━━━━\u001b[0m\u001b[37m\u001b[0m \u001b[1m1s\u001b[0m 4ms/step - accuracy: 0.6757 - loss: 0.6437 - val_accuracy: 0.7169 - val_loss: 0.6181\n",
            "Epoch 40/100\n",
            "\u001b[1m208/208\u001b[0m \u001b[32m━━━━━━━━━━━━━━━━━━━━\u001b[0m\u001b[37m\u001b[0m \u001b[1m1s\u001b[0m 4ms/step - accuracy: 0.6778 - loss: 0.6200 - val_accuracy: 0.7169 - val_loss: 0.6176\n",
            "Epoch 41/100\n",
            "\u001b[1m208/208\u001b[0m \u001b[32m━━━━━━━━━━━━━━━━━━━━\u001b[0m\u001b[37m\u001b[0m \u001b[1m1s\u001b[0m 4ms/step - accuracy: 0.7690 - loss: 0.5828 - val_accuracy: 0.7169 - val_loss: 0.6165\n",
            "Epoch 42/100\n",
            "\u001b[1m208/208\u001b[0m \u001b[32m━━━━━━━━━━━━━━━━━━━━\u001b[0m\u001b[37m\u001b[0m \u001b[1m1s\u001b[0m 6ms/step - accuracy: 0.7503 - loss: 0.5669 - val_accuracy: 0.7169 - val_loss: 0.6157\n",
            "Epoch 43/100\n",
            "\u001b[1m208/208\u001b[0m \u001b[32m━━━━━━━━━━━━━━━━━━━━\u001b[0m\u001b[37m\u001b[0m \u001b[1m1s\u001b[0m 5ms/step - accuracy: 0.7116 - loss: 0.6017 - val_accuracy: 0.7169 - val_loss: 0.6158\n",
            "Epoch 44/100\n",
            "\u001b[1m208/208\u001b[0m \u001b[32m━━━━━━━━━━━━━━━━━━━━\u001b[0m\u001b[37m\u001b[0m \u001b[1m1s\u001b[0m 5ms/step - accuracy: 0.6973 - loss: 0.5950 - val_accuracy: 0.7169 - val_loss: 0.6149\n",
            "Epoch 45/100\n",
            "\u001b[1m208/208\u001b[0m \u001b[32m━━━━━━━━━━━━━━━━━━━━\u001b[0m\u001b[37m\u001b[0m \u001b[1m1s\u001b[0m 4ms/step - accuracy: 0.7239 - loss: 0.5875 - val_accuracy: 0.7169 - val_loss: 0.6143\n",
            "Epoch 46/100\n",
            "\u001b[1m208/208\u001b[0m \u001b[32m━━━━━━━━━━━━━━━━━━━━\u001b[0m\u001b[37m\u001b[0m \u001b[1m1s\u001b[0m 4ms/step - accuracy: 0.7349 - loss: 0.5936 - val_accuracy: 0.7169 - val_loss: 0.6137\n",
            "Epoch 47/100\n",
            "\u001b[1m208/208\u001b[0m \u001b[32m━━━━━━━━━━━━━━━━━━━━\u001b[0m\u001b[37m\u001b[0m \u001b[1m1s\u001b[0m 4ms/step - accuracy: 0.7204 - loss: 0.5897 - val_accuracy: 0.7169 - val_loss: 0.6132\n",
            "Epoch 48/100\n",
            "\u001b[1m208/208\u001b[0m \u001b[32m━━━━━━━━━━━━━━━━━━━━\u001b[0m\u001b[37m\u001b[0m \u001b[1m1s\u001b[0m 4ms/step - accuracy: 0.7360 - loss: 0.5914 - val_accuracy: 0.7169 - val_loss: 0.6131\n",
            "Epoch 49/100\n",
            "\u001b[1m208/208\u001b[0m \u001b[32m━━━━━━━━━━━━━━━━━━━━\u001b[0m\u001b[37m\u001b[0m \u001b[1m1s\u001b[0m 4ms/step - accuracy: 0.7373 - loss: 0.5750 - val_accuracy: 0.7169 - val_loss: 0.6124\n",
            "Epoch 50/100\n",
            "\u001b[1m208/208\u001b[0m \u001b[32m━━━━━━━━━━━━━━━━━━━━\u001b[0m\u001b[37m\u001b[0m \u001b[1m1s\u001b[0m 4ms/step - accuracy: 0.6965 - loss: 0.6229 - val_accuracy: 0.7169 - val_loss: 0.6117\n",
            "Epoch 51/100\n",
            "\u001b[1m208/208\u001b[0m \u001b[32m━━━━━━━━━━━━━━━━━━━━\u001b[0m\u001b[37m\u001b[0m \u001b[1m1s\u001b[0m 4ms/step - accuracy: 0.7080 - loss: 0.5975 - val_accuracy: 0.7169 - val_loss: 0.6113\n",
            "Epoch 52/100\n",
            "\u001b[1m208/208\u001b[0m \u001b[32m━━━━━━━━━━━━━━━━━━━━\u001b[0m\u001b[37m\u001b[0m \u001b[1m1s\u001b[0m 4ms/step - accuracy: 0.7779 - loss: 0.5481 - val_accuracy: 0.7169 - val_loss: 0.6108\n",
            "Epoch 53/100\n",
            "\u001b[1m208/208\u001b[0m \u001b[32m━━━━━━━━━━━━━━━━━━━━\u001b[0m\u001b[37m\u001b[0m \u001b[1m1s\u001b[0m 4ms/step - accuracy: 0.6938 - loss: 0.6047 - val_accuracy: 0.7169 - val_loss: 0.6105\n",
            "Epoch 54/100\n",
            "\u001b[1m208/208\u001b[0m \u001b[32m━━━━━━━━━━━━━━━━━━━━\u001b[0m\u001b[37m\u001b[0m \u001b[1m1s\u001b[0m 4ms/step - accuracy: 0.7263 - loss: 0.5863 - val_accuracy: 0.7169 - val_loss: 0.6098\n",
            "Epoch 55/100\n",
            "\u001b[1m208/208\u001b[0m \u001b[32m━━━━━━━━━━━━━━━━━━━━\u001b[0m\u001b[37m\u001b[0m \u001b[1m1s\u001b[0m 4ms/step - accuracy: 0.7428 - loss: 0.5637 - val_accuracy: 0.7169 - val_loss: 0.6094\n",
            "Epoch 56/100\n",
            "\u001b[1m208/208\u001b[0m \u001b[32m━━━━━━━━━━━━━━━━━━━━\u001b[0m\u001b[37m\u001b[0m \u001b[1m1s\u001b[0m 4ms/step - accuracy: 0.6984 - loss: 0.5901 - val_accuracy: 0.7169 - val_loss: 0.6088\n",
            "Epoch 57/100\n",
            "\u001b[1m208/208\u001b[0m \u001b[32m━━━━━━━━━━━━━━━━━━━━\u001b[0m\u001b[37m\u001b[0m \u001b[1m1s\u001b[0m 5ms/step - accuracy: 0.7064 - loss: 0.6072 - val_accuracy: 0.7169 - val_loss: 0.6082\n",
            "Epoch 58/100\n",
            "\u001b[1m208/208\u001b[0m \u001b[32m━━━━━━━━━━━━━━━━━━━━\u001b[0m\u001b[37m\u001b[0m \u001b[1m1s\u001b[0m 5ms/step - accuracy: 0.7596 - loss: 0.5495 - val_accuracy: 0.7169 - val_loss: 0.6080\n",
            "Epoch 59/100\n",
            "\u001b[1m208/208\u001b[0m \u001b[32m━━━━━━━━━━━━━━━━━━━━\u001b[0m\u001b[37m\u001b[0m \u001b[1m1s\u001b[0m 5ms/step - accuracy: 0.8034 - loss: 0.5234 - val_accuracy: 0.7169 - val_loss: 0.6072\n",
            "Epoch 60/100\n",
            "\u001b[1m208/208\u001b[0m \u001b[32m━━━━━━━━━━━━━━━━━━━━\u001b[0m\u001b[37m\u001b[0m \u001b[1m1s\u001b[0m 6ms/step - accuracy: 0.7460 - loss: 0.5537 - val_accuracy: 0.7169 - val_loss: 0.6069\n",
            "Epoch 61/100\n",
            "\u001b[1m208/208\u001b[0m \u001b[32m━━━━━━━━━━━━━━━━━━━━\u001b[0m\u001b[37m\u001b[0m \u001b[1m1s\u001b[0m 6ms/step - accuracy: 0.7342 - loss: 0.6031 - val_accuracy: 0.7169 - val_loss: 0.6066\n",
            "Epoch 62/100\n",
            "\u001b[1m208/208\u001b[0m \u001b[32m━━━━━━━━━━━━━━━━━━━━\u001b[0m\u001b[37m\u001b[0m \u001b[1m1s\u001b[0m 6ms/step - accuracy: 0.7560 - loss: 0.5583 - val_accuracy: 0.7169 - val_loss: 0.6059\n",
            "Epoch 63/100\n",
            "\u001b[1m208/208\u001b[0m \u001b[32m━━━━━━━━━━━━━━━━━━━━\u001b[0m\u001b[37m\u001b[0m \u001b[1m1s\u001b[0m 4ms/step - accuracy: 0.7883 - loss: 0.5480 - val_accuracy: 0.7169 - val_loss: 0.6059\n",
            "Epoch 64/100\n",
            "\u001b[1m208/208\u001b[0m \u001b[32m━━━━━━━━━━━━━━━━━━━━\u001b[0m\u001b[37m\u001b[0m \u001b[1m1s\u001b[0m 4ms/step - accuracy: 0.7204 - loss: 0.5788 - val_accuracy: 0.7169 - val_loss: 0.6051\n",
            "Epoch 65/100\n",
            "\u001b[1m208/208\u001b[0m \u001b[32m━━━━━━━━━━━━━━━━━━━━\u001b[0m\u001b[37m\u001b[0m \u001b[1m1s\u001b[0m 4ms/step - accuracy: 0.7458 - loss: 0.5648 - val_accuracy: 0.7169 - val_loss: 0.6049\n",
            "Epoch 66/100\n",
            "\u001b[1m208/208\u001b[0m \u001b[32m━━━━━━━━━━━━━━━━━━━━\u001b[0m\u001b[37m\u001b[0m \u001b[1m1s\u001b[0m 4ms/step - accuracy: 0.7493 - loss: 0.5503 - val_accuracy: 0.7169 - val_loss: 0.6046\n",
            "Epoch 67/100\n",
            "\u001b[1m208/208\u001b[0m \u001b[32m━━━━━━━━━━━━━━━━━━━━\u001b[0m\u001b[37m\u001b[0m \u001b[1m1s\u001b[0m 4ms/step - accuracy: 0.7565 - loss: 0.5321 - val_accuracy: 0.7169 - val_loss: 0.6041\n",
            "Epoch 68/100\n",
            "\u001b[1m208/208\u001b[0m \u001b[32m━━━━━━━━━━━━━━━━━━━━\u001b[0m\u001b[37m\u001b[0m \u001b[1m1s\u001b[0m 4ms/step - accuracy: 0.7557 - loss: 0.5544 - val_accuracy: 0.7169 - val_loss: 0.6037\n",
            "Epoch 69/100\n",
            "\u001b[1m208/208\u001b[0m \u001b[32m━━━━━━━━━━━━━━━━━━━━\u001b[0m\u001b[37m\u001b[0m \u001b[1m1s\u001b[0m 4ms/step - accuracy: 0.7237 - loss: 0.5745 - val_accuracy: 0.7169 - val_loss: 0.6029\n",
            "Epoch 70/100\n",
            "\u001b[1m208/208\u001b[0m \u001b[32m━━━━━━━━━━━━━━━━━━━━\u001b[0m\u001b[37m\u001b[0m \u001b[1m1s\u001b[0m 5ms/step - accuracy: 0.7606 - loss: 0.5577 - val_accuracy: 0.7169 - val_loss: 0.6025\n",
            "Epoch 71/100\n",
            "\u001b[1m208/208\u001b[0m \u001b[32m━━━━━━━━━━━━━━━━━━━━\u001b[0m\u001b[37m\u001b[0m \u001b[1m1s\u001b[0m 7ms/step - accuracy: 0.7577 - loss: 0.5382 - val_accuracy: 0.7169 - val_loss: 0.6020\n",
            "Epoch 72/100\n",
            "\u001b[1m208/208\u001b[0m \u001b[32m━━━━━━━━━━━━━━━━━━━━\u001b[0m\u001b[37m\u001b[0m \u001b[1m1s\u001b[0m 6ms/step - accuracy: 0.7990 - loss: 0.5332 - val_accuracy: 0.7169 - val_loss: 0.6021\n",
            "Epoch 73/100\n",
            "\u001b[1m208/208\u001b[0m \u001b[32m━━━━━━━━━━━━━━━━━━━━\u001b[0m\u001b[37m\u001b[0m \u001b[1m1s\u001b[0m 4ms/step - accuracy: 0.7449 - loss: 0.5633 - val_accuracy: 0.7108 - val_loss: 0.6017\n",
            "Epoch 74/100\n",
            "\u001b[1m208/208\u001b[0m \u001b[32m━━━━━━━━━━━━━━━━━━━━\u001b[0m\u001b[37m\u001b[0m \u001b[1m1s\u001b[0m 4ms/step - accuracy: 0.7287 - loss: 0.5956 - val_accuracy: 0.7108 - val_loss: 0.6014\n",
            "Epoch 75/100\n",
            "\u001b[1m208/208\u001b[0m \u001b[32m━━━━━━━━━━━━━━━━━━━━\u001b[0m\u001b[37m\u001b[0m \u001b[1m1s\u001b[0m 4ms/step - accuracy: 0.7866 - loss: 0.5349 - val_accuracy: 0.7108 - val_loss: 0.6009\n",
            "Epoch 76/100\n",
            "\u001b[1m208/208\u001b[0m \u001b[32m━━━━━━━━━━━━━━━━━━━━\u001b[0m\u001b[37m\u001b[0m \u001b[1m1s\u001b[0m 4ms/step - accuracy: 0.7216 - loss: 0.5970 - val_accuracy: 0.7108 - val_loss: 0.6005\n",
            "Epoch 77/100\n",
            "\u001b[1m208/208\u001b[0m \u001b[32m━━━━━━━━━━━━━━━━━━━━\u001b[0m\u001b[37m\u001b[0m \u001b[1m1s\u001b[0m 4ms/step - accuracy: 0.7743 - loss: 0.5388 - val_accuracy: 0.7169 - val_loss: 0.5999\n",
            "Epoch 78/100\n",
            "\u001b[1m208/208\u001b[0m \u001b[32m━━━━━━━━━━━━━━━━━━━━\u001b[0m\u001b[37m\u001b[0m \u001b[1m1s\u001b[0m 4ms/step - accuracy: 0.7469 - loss: 0.5490 - val_accuracy: 0.7169 - val_loss: 0.5994\n",
            "Epoch 79/100\n",
            "\u001b[1m208/208\u001b[0m \u001b[32m━━━━━━━━━━━━━━━━━━━━\u001b[0m\u001b[37m\u001b[0m \u001b[1m1s\u001b[0m 4ms/step - accuracy: 0.7906 - loss: 0.5227 - val_accuracy: 0.7169 - val_loss: 0.5991\n",
            "Epoch 80/100\n",
            "\u001b[1m208/208\u001b[0m \u001b[32m━━━━━━━━━━━━━━━━━━━━\u001b[0m\u001b[37m\u001b[0m \u001b[1m1s\u001b[0m 4ms/step - accuracy: 0.7067 - loss: 0.5737 - val_accuracy: 0.7169 - val_loss: 0.5989\n",
            "Epoch 81/100\n",
            "\u001b[1m208/208\u001b[0m \u001b[32m━━━━━━━━━━━━━━━━━━━━\u001b[0m\u001b[37m\u001b[0m \u001b[1m1s\u001b[0m 4ms/step - accuracy: 0.7706 - loss: 0.5452 - val_accuracy: 0.7108 - val_loss: 0.5988\n",
            "Epoch 82/100\n",
            "\u001b[1m208/208\u001b[0m \u001b[32m━━━━━━━━━━━━━━━━━━━━\u001b[0m\u001b[37m\u001b[0m \u001b[1m1s\u001b[0m 4ms/step - accuracy: 0.7013 - loss: 0.5760 - val_accuracy: 0.7108 - val_loss: 0.5986\n",
            "Epoch 83/100\n",
            "\u001b[1m208/208\u001b[0m \u001b[32m━━━━━━━━━━━━━━━━━━━━\u001b[0m\u001b[37m\u001b[0m \u001b[1m1s\u001b[0m 4ms/step - accuracy: 0.7021 - loss: 0.6058 - val_accuracy: 0.7108 - val_loss: 0.5986\n",
            "Epoch 84/100\n",
            "\u001b[1m208/208\u001b[0m \u001b[32m━━━━━━━━━━━━━━━━━━━━\u001b[0m\u001b[37m\u001b[0m \u001b[1m1s\u001b[0m 4ms/step - accuracy: 0.7156 - loss: 0.5871 - val_accuracy: 0.7108 - val_loss: 0.5985\n",
            "Epoch 85/100\n",
            "\u001b[1m208/208\u001b[0m \u001b[32m━━━━━━━━━━━━━━━━━━━━\u001b[0m\u001b[37m\u001b[0m \u001b[1m1s\u001b[0m 6ms/step - accuracy: 0.6941 - loss: 0.5966 - val_accuracy: 0.7108 - val_loss: 0.5976\n",
            "Epoch 86/100\n",
            "\u001b[1m208/208\u001b[0m \u001b[32m━━━━━━━━━━━━━━━━━━━━\u001b[0m\u001b[37m\u001b[0m \u001b[1m1s\u001b[0m 6ms/step - accuracy: 0.6898 - loss: 0.6156 - val_accuracy: 0.7108 - val_loss: 0.5979\n",
            "Epoch 87/100\n",
            "\u001b[1m208/208\u001b[0m \u001b[32m━━━━━━━━━━━━━━━━━━━━\u001b[0m\u001b[37m\u001b[0m \u001b[1m1s\u001b[0m 5ms/step - accuracy: 0.6854 - loss: 0.6034 - val_accuracy: 0.7108 - val_loss: 0.5972\n",
            "Epoch 88/100\n",
            "\u001b[1m208/208\u001b[0m \u001b[32m━━━━━━━━━━━━━━━━━━━━\u001b[0m\u001b[37m\u001b[0m \u001b[1m1s\u001b[0m 4ms/step - accuracy: 0.7636 - loss: 0.5429 - val_accuracy: 0.7108 - val_loss: 0.5972\n",
            "Epoch 89/100\n",
            "\u001b[1m208/208\u001b[0m \u001b[32m━━━━━━━━━━━━━━━━━━━━\u001b[0m\u001b[37m\u001b[0m \u001b[1m1s\u001b[0m 4ms/step - accuracy: 0.7125 - loss: 0.5917 - val_accuracy: 0.7108 - val_loss: 0.5969\n",
            "Epoch 90/100\n",
            "\u001b[1m208/208\u001b[0m \u001b[32m━━━━━━━━━━━━━━━━━━━━\u001b[0m\u001b[37m\u001b[0m \u001b[1m1s\u001b[0m 4ms/step - accuracy: 0.7459 - loss: 0.5467 - val_accuracy: 0.7108 - val_loss: 0.5970\n",
            "Epoch 91/100\n",
            "\u001b[1m208/208\u001b[0m \u001b[32m━━━━━━━━━━━━━━━━━━━━\u001b[0m\u001b[37m\u001b[0m \u001b[1m1s\u001b[0m 4ms/step - accuracy: 0.7068 - loss: 0.5639 - val_accuracy: 0.7108 - val_loss: 0.5966\n",
            "Epoch 92/100\n",
            "\u001b[1m208/208\u001b[0m \u001b[32m━━━━━━━━━━━━━━━━━━━━\u001b[0m\u001b[37m\u001b[0m \u001b[1m1s\u001b[0m 4ms/step - accuracy: 0.8041 - loss: 0.5124 - val_accuracy: 0.7108 - val_loss: 0.5960\n",
            "Epoch 93/100\n",
            "\u001b[1m208/208\u001b[0m \u001b[32m━━━━━━━━━━━━━━━━━━━━\u001b[0m\u001b[37m\u001b[0m \u001b[1m1s\u001b[0m 4ms/step - accuracy: 0.7037 - loss: 0.5621 - val_accuracy: 0.7169 - val_loss: 0.5960\n",
            "Epoch 94/100\n",
            "\u001b[1m208/208\u001b[0m \u001b[32m━━━━━━━━━━━━━━━━━━━━\u001b[0m\u001b[37m\u001b[0m \u001b[1m1s\u001b[0m 4ms/step - accuracy: 0.7552 - loss: 0.5438 - val_accuracy: 0.7108 - val_loss: 0.5951\n",
            "Epoch 95/100\n",
            "\u001b[1m208/208\u001b[0m \u001b[32m━━━━━━━━━━━━━━━━━━━━\u001b[0m\u001b[37m\u001b[0m \u001b[1m1s\u001b[0m 4ms/step - accuracy: 0.7565 - loss: 0.5442 - val_accuracy: 0.7169 - val_loss: 0.5953\n",
            "Epoch 96/100\n",
            "\u001b[1m208/208\u001b[0m \u001b[32m━━━━━━━━━━━━━━━━━━━━\u001b[0m\u001b[37m\u001b[0m \u001b[1m1s\u001b[0m 4ms/step - accuracy: 0.7517 - loss: 0.5485 - val_accuracy: 0.7169 - val_loss: 0.5949\n",
            "Epoch 97/100\n",
            "\u001b[1m208/208\u001b[0m \u001b[32m━━━━━━━━━━━━━━━━━━━━\u001b[0m\u001b[37m\u001b[0m \u001b[1m1s\u001b[0m 4ms/step - accuracy: 0.7385 - loss: 0.5464 - val_accuracy: 0.7169 - val_loss: 0.5943\n",
            "Epoch 98/100\n",
            "\u001b[1m208/208\u001b[0m \u001b[32m━━━━━━━━━━━━━━━━━━━━\u001b[0m\u001b[37m\u001b[0m \u001b[1m1s\u001b[0m 4ms/step - accuracy: 0.7363 - loss: 0.5625 - val_accuracy: 0.7169 - val_loss: 0.5948\n",
            "Epoch 99/100\n",
            "\u001b[1m208/208\u001b[0m \u001b[32m━━━━━━━━━━━━━━━━━━━━\u001b[0m\u001b[37m\u001b[0m \u001b[1m1s\u001b[0m 7ms/step - accuracy: 0.8011 - loss: 0.5012 - val_accuracy: 0.7169 - val_loss: 0.5942\n",
            "Epoch 100/100\n",
            "\u001b[1m208/208\u001b[0m \u001b[32m━━━━━━━━━━━━━━━━━━━━\u001b[0m\u001b[37m\u001b[0m \u001b[1m1s\u001b[0m 5ms/step - accuracy: 0.7866 - loss: 0.4804 - val_accuracy: 0.7169 - val_loss: 0.5937\n"
          ]
        }
      ]
    },
    {
      "cell_type": "code",
      "source": [
        "import plotly\n",
        "import plotly.graph_objs as go"
      ],
      "metadata": {
        "id": "lcAjlC8gkXQH"
      },
      "execution_count": 123,
      "outputs": []
    },
    {
      "cell_type": "code",
      "source": [
        "h1 = go.Scatter(y=his.history['loss'],\n",
        "                    mode=\"lines\", line=dict(\n",
        "                    width=2,\n",
        "                    color='blue'),\n",
        "                    name=\"loss\"\n",
        "                   )\n",
        "h2 = go.Scatter(y=his.history['val_loss'],\n",
        "                    mode=\"lines\", line=dict(\n",
        "                    width=2,\n",
        "                    color='red'),\n",
        "                    name=\"val_loss\"\n",
        "                   )\n",
        "\n",
        "data = [h1,h2]\n",
        "layout1 = go.Layout(title='Loss',\n",
        "                   xaxis=dict(title='epochs'),\n",
        "                   yaxis=dict(title='', range=[0, 1]))\n",
        "fig1 = go.Figure(data = data, layout=layout1)\n",
        "fig1.show()"
      ],
      "metadata": {
        "colab": {
          "base_uri": "https://localhost:8080/",
          "height": 542
        },
        "id": "8EPFbjT7k0Vq",
        "outputId": "f14e0a0a-5d6d-4a99-e659-a5a0bbd99232"
      },
      "execution_count": 124,
      "outputs": [
        {
          "output_type": "display_data",
          "data": {
            "text/html": [
              "<html>\n",
              "<head><meta charset=\"utf-8\" /></head>\n",
              "<body>\n",
              "    <div>            <script src=\"https://cdnjs.cloudflare.com/ajax/libs/mathjax/2.7.5/MathJax.js?config=TeX-AMS-MML_SVG\"></script><script type=\"text/javascript\">if (window.MathJax && window.MathJax.Hub && window.MathJax.Hub.Config) {window.MathJax.Hub.Config({SVG: {font: \"STIX-Web\"}});}</script>                <script type=\"text/javascript\">window.PlotlyConfig = {MathJaxConfig: 'local'};</script>\n",
              "        <script charset=\"utf-8\" src=\"https://cdn.plot.ly/plotly-2.35.2.min.js\"></script>                <div id=\"19ca2940-e102-4feb-bd08-87aee4460991\" class=\"plotly-graph-div\" style=\"height:525px; width:100%;\"></div>            <script type=\"text/javascript\">                                    window.PLOTLYENV=window.PLOTLYENV || {};                                    if (document.getElementById(\"19ca2940-e102-4feb-bd08-87aee4460991\")) {                    Plotly.newPlot(                        \"19ca2940-e102-4feb-bd08-87aee4460991\",                        [{\"line\":{\"color\":\"blue\",\"width\":2},\"mode\":\"lines\",\"name\":\"loss\",\"y\":[0.7940734028816223,0.7654265761375427,0.7351729273796082,0.7136591672897339,0.7211263179779053,0.6813327074050903,0.662575364112854,0.6683264374732971,0.6528668999671936,0.6556642055511475,0.6164131164550781,0.6280940175056458,0.626792311668396,0.6303669810295105,0.6264380812644958,0.6138852834701538,0.6268075704574585,0.6087115406990051,0.6072438955307007,0.6060935854911804,0.590474545955658,0.603643000125885,0.6015287637710571,0.597572386264801,0.5983596444129944,0.6065033674240112,0.6066173911094666,0.6063705086708069,0.5955989360809326,0.5923821926116943,0.5847278833389282,0.5966619849205017,0.5969196557998657,0.5863107442855835,0.5844082832336426,0.5946711897850037,0.5835008025169373,0.578969419002533,0.5842031240463257,0.5811681747436523,0.595326840877533,0.5684504508972168,0.5880243182182312,0.581527590751648,0.5890049934387207,0.5814058184623718,0.5778630375862122,0.586086630821228,0.5716795921325684,0.5826036930084229,0.5762138962745667,0.5788813829421997,0.5696568489074707,0.5707443356513977,0.5703368186950684,0.5864844918251038,0.5842063426971436,0.5700690746307373,0.5755272507667542,0.5695329904556274,0.5846805572509766,0.5752209424972534,0.5738936066627502,0.5606184601783752,0.5707177519798279,0.5546653270721436,0.5647979378700256,0.5716766715049744,0.5597138404846191,0.5647838115692139,0.5483121275901794,0.5675516724586487,0.5630860924720764,0.5591342449188232,0.54862380027771,0.5630159974098206,0.5803651809692383,0.5593850612640381,0.5526925325393677,0.5545327663421631,0.5655931830406189,0.5630421042442322,0.5601891279220581,0.5633376836776733,0.5632925629615784,0.5601012706756592,0.5521916151046753,0.5469117760658264,0.5542823076248169,0.5661498308181763,0.5482022762298584,0.5577466487884521,0.5601228475570679,0.5627555251121521,0.5438765287399292,0.5458920001983643,0.5446433424949646,0.5333000421524048,0.549079418182373,0.5473088026046753],\"type\":\"scatter\"},{\"line\":{\"color\":\"red\",\"width\":2},\"mode\":\"lines\",\"name\":\"val_loss\",\"y\":[0.8964874744415283,0.8580209016799927,0.8262280225753784,0.7992233037948608,0.7759624719619751,0.7560515403747559,0.7369412183761597,0.7211720943450928,0.7083055377006531,0.6969460844993591,0.6878318190574646,0.6787543892860413,0.6709713935852051,0.6648387908935547,0.6594428420066833,0.6545073986053467,0.6504765748977661,0.6474376320838928,0.6440621018409729,0.6413704752922058,0.639394223690033,0.6378303170204163,0.6356921195983887,0.6334714889526367,0.6325318217277527,0.6313152313232422,0.6297784447669983,0.6286908984184265,0.6274939179420471,0.6265724897384644,0.6251810193061829,0.6242351531982422,0.6231951713562012,0.6224116683006287,0.6214292645454407,0.620291531085968,0.6198703050613403,0.6188698410987854,0.6181350350379944,0.6175568699836731,0.6164613962173462,0.6157387495040894,0.6157991886138916,0.6148539185523987,0.6142990589141846,0.6136704683303833,0.6132305264472961,0.6131435632705688,0.6123824715614319,0.6116818189620972,0.6112706065177917,0.6107600927352905,0.6105104684829712,0.6097748875617981,0.6094164848327637,0.6088255643844604,0.608238697052002,0.6079778075218201,0.6072404384613037,0.6069180369377136,0.6065528988838196,0.6059162020683289,0.6059447526931763,0.6051182746887207,0.604852557182312,0.6046218276023865,0.6040758490562439,0.6036540865898132,0.6029096841812134,0.6024739146232605,0.6020400524139404,0.6020857691764832,0.6016995310783386,0.6013664603233337,0.6009352207183838,0.6005294919013977,0.5999173521995544,0.5993942618370056,0.5991318821907043,0.598910391330719,0.5987826585769653,0.5986353158950806,0.5985909104347229,0.5985442996025085,0.597626805305481,0.5979304313659668,0.5971759557723999,0.5971567630767822,0.59694904088974,0.5970287322998047,0.5966183543205261,0.596042275428772,0.5960302948951721,0.5951471924781799,0.5953096151351929,0.5948569774627686,0.5942590832710266,0.5948173999786377,0.594247043132782,0.5937302708625793],\"type\":\"scatter\"}],                        {\"title\":{\"text\":\"Loss\"},\"xaxis\":{\"title\":{\"text\":\"epochs\"}},\"yaxis\":{\"range\":[0,1],\"title\":{\"text\":\"\"}},\"template\":{\"data\":{\"histogram2dcontour\":[{\"type\":\"histogram2dcontour\",\"colorbar\":{\"outlinewidth\":0,\"ticks\":\"\"},\"colorscale\":[[0.0,\"#0d0887\"],[0.1111111111111111,\"#46039f\"],[0.2222222222222222,\"#7201a8\"],[0.3333333333333333,\"#9c179e\"],[0.4444444444444444,\"#bd3786\"],[0.5555555555555556,\"#d8576b\"],[0.6666666666666666,\"#ed7953\"],[0.7777777777777778,\"#fb9f3a\"],[0.8888888888888888,\"#fdca26\"],[1.0,\"#f0f921\"]]}],\"choropleth\":[{\"type\":\"choropleth\",\"colorbar\":{\"outlinewidth\":0,\"ticks\":\"\"}}],\"histogram2d\":[{\"type\":\"histogram2d\",\"colorbar\":{\"outlinewidth\":0,\"ticks\":\"\"},\"colorscale\":[[0.0,\"#0d0887\"],[0.1111111111111111,\"#46039f\"],[0.2222222222222222,\"#7201a8\"],[0.3333333333333333,\"#9c179e\"],[0.4444444444444444,\"#bd3786\"],[0.5555555555555556,\"#d8576b\"],[0.6666666666666666,\"#ed7953\"],[0.7777777777777778,\"#fb9f3a\"],[0.8888888888888888,\"#fdca26\"],[1.0,\"#f0f921\"]]}],\"heatmap\":[{\"type\":\"heatmap\",\"colorbar\":{\"outlinewidth\":0,\"ticks\":\"\"},\"colorscale\":[[0.0,\"#0d0887\"],[0.1111111111111111,\"#46039f\"],[0.2222222222222222,\"#7201a8\"],[0.3333333333333333,\"#9c179e\"],[0.4444444444444444,\"#bd3786\"],[0.5555555555555556,\"#d8576b\"],[0.6666666666666666,\"#ed7953\"],[0.7777777777777778,\"#fb9f3a\"],[0.8888888888888888,\"#fdca26\"],[1.0,\"#f0f921\"]]}],\"heatmapgl\":[{\"type\":\"heatmapgl\",\"colorbar\":{\"outlinewidth\":0,\"ticks\":\"\"},\"colorscale\":[[0.0,\"#0d0887\"],[0.1111111111111111,\"#46039f\"],[0.2222222222222222,\"#7201a8\"],[0.3333333333333333,\"#9c179e\"],[0.4444444444444444,\"#bd3786\"],[0.5555555555555556,\"#d8576b\"],[0.6666666666666666,\"#ed7953\"],[0.7777777777777778,\"#fb9f3a\"],[0.8888888888888888,\"#fdca26\"],[1.0,\"#f0f921\"]]}],\"contourcarpet\":[{\"type\":\"contourcarpet\",\"colorbar\":{\"outlinewidth\":0,\"ticks\":\"\"}}],\"contour\":[{\"type\":\"contour\",\"colorbar\":{\"outlinewidth\":0,\"ticks\":\"\"},\"colorscale\":[[0.0,\"#0d0887\"],[0.1111111111111111,\"#46039f\"],[0.2222222222222222,\"#7201a8\"],[0.3333333333333333,\"#9c179e\"],[0.4444444444444444,\"#bd3786\"],[0.5555555555555556,\"#d8576b\"],[0.6666666666666666,\"#ed7953\"],[0.7777777777777778,\"#fb9f3a\"],[0.8888888888888888,\"#fdca26\"],[1.0,\"#f0f921\"]]}],\"surface\":[{\"type\":\"surface\",\"colorbar\":{\"outlinewidth\":0,\"ticks\":\"\"},\"colorscale\":[[0.0,\"#0d0887\"],[0.1111111111111111,\"#46039f\"],[0.2222222222222222,\"#7201a8\"],[0.3333333333333333,\"#9c179e\"],[0.4444444444444444,\"#bd3786\"],[0.5555555555555556,\"#d8576b\"],[0.6666666666666666,\"#ed7953\"],[0.7777777777777778,\"#fb9f3a\"],[0.8888888888888888,\"#fdca26\"],[1.0,\"#f0f921\"]]}],\"mesh3d\":[{\"type\":\"mesh3d\",\"colorbar\":{\"outlinewidth\":0,\"ticks\":\"\"}}],\"scatter\":[{\"fillpattern\":{\"fillmode\":\"overlay\",\"size\":10,\"solidity\":0.2},\"type\":\"scatter\"}],\"parcoords\":[{\"type\":\"parcoords\",\"line\":{\"colorbar\":{\"outlinewidth\":0,\"ticks\":\"\"}}}],\"scatterpolargl\":[{\"type\":\"scatterpolargl\",\"marker\":{\"colorbar\":{\"outlinewidth\":0,\"ticks\":\"\"}}}],\"bar\":[{\"error_x\":{\"color\":\"#2a3f5f\"},\"error_y\":{\"color\":\"#2a3f5f\"},\"marker\":{\"line\":{\"color\":\"#E5ECF6\",\"width\":0.5},\"pattern\":{\"fillmode\":\"overlay\",\"size\":10,\"solidity\":0.2}},\"type\":\"bar\"}],\"scattergeo\":[{\"type\":\"scattergeo\",\"marker\":{\"colorbar\":{\"outlinewidth\":0,\"ticks\":\"\"}}}],\"scatterpolar\":[{\"type\":\"scatterpolar\",\"marker\":{\"colorbar\":{\"outlinewidth\":0,\"ticks\":\"\"}}}],\"histogram\":[{\"marker\":{\"pattern\":{\"fillmode\":\"overlay\",\"size\":10,\"solidity\":0.2}},\"type\":\"histogram\"}],\"scattergl\":[{\"type\":\"scattergl\",\"marker\":{\"colorbar\":{\"outlinewidth\":0,\"ticks\":\"\"}}}],\"scatter3d\":[{\"type\":\"scatter3d\",\"line\":{\"colorbar\":{\"outlinewidth\":0,\"ticks\":\"\"}},\"marker\":{\"colorbar\":{\"outlinewidth\":0,\"ticks\":\"\"}}}],\"scattermapbox\":[{\"type\":\"scattermapbox\",\"marker\":{\"colorbar\":{\"outlinewidth\":0,\"ticks\":\"\"}}}],\"scatterternary\":[{\"type\":\"scatterternary\",\"marker\":{\"colorbar\":{\"outlinewidth\":0,\"ticks\":\"\"}}}],\"scattercarpet\":[{\"type\":\"scattercarpet\",\"marker\":{\"colorbar\":{\"outlinewidth\":0,\"ticks\":\"\"}}}],\"carpet\":[{\"aaxis\":{\"endlinecolor\":\"#2a3f5f\",\"gridcolor\":\"white\",\"linecolor\":\"white\",\"minorgridcolor\":\"white\",\"startlinecolor\":\"#2a3f5f\"},\"baxis\":{\"endlinecolor\":\"#2a3f5f\",\"gridcolor\":\"white\",\"linecolor\":\"white\",\"minorgridcolor\":\"white\",\"startlinecolor\":\"#2a3f5f\"},\"type\":\"carpet\"}],\"table\":[{\"cells\":{\"fill\":{\"color\":\"#EBF0F8\"},\"line\":{\"color\":\"white\"}},\"header\":{\"fill\":{\"color\":\"#C8D4E3\"},\"line\":{\"color\":\"white\"}},\"type\":\"table\"}],\"barpolar\":[{\"marker\":{\"line\":{\"color\":\"#E5ECF6\",\"width\":0.5},\"pattern\":{\"fillmode\":\"overlay\",\"size\":10,\"solidity\":0.2}},\"type\":\"barpolar\"}],\"pie\":[{\"automargin\":true,\"type\":\"pie\"}]},\"layout\":{\"autotypenumbers\":\"strict\",\"colorway\":[\"#636efa\",\"#EF553B\",\"#00cc96\",\"#ab63fa\",\"#FFA15A\",\"#19d3f3\",\"#FF6692\",\"#B6E880\",\"#FF97FF\",\"#FECB52\"],\"font\":{\"color\":\"#2a3f5f\"},\"hovermode\":\"closest\",\"hoverlabel\":{\"align\":\"left\"},\"paper_bgcolor\":\"white\",\"plot_bgcolor\":\"#E5ECF6\",\"polar\":{\"bgcolor\":\"#E5ECF6\",\"angularaxis\":{\"gridcolor\":\"white\",\"linecolor\":\"white\",\"ticks\":\"\"},\"radialaxis\":{\"gridcolor\":\"white\",\"linecolor\":\"white\",\"ticks\":\"\"}},\"ternary\":{\"bgcolor\":\"#E5ECF6\",\"aaxis\":{\"gridcolor\":\"white\",\"linecolor\":\"white\",\"ticks\":\"\"},\"baxis\":{\"gridcolor\":\"white\",\"linecolor\":\"white\",\"ticks\":\"\"},\"caxis\":{\"gridcolor\":\"white\",\"linecolor\":\"white\",\"ticks\":\"\"}},\"coloraxis\":{\"colorbar\":{\"outlinewidth\":0,\"ticks\":\"\"}},\"colorscale\":{\"sequential\":[[0.0,\"#0d0887\"],[0.1111111111111111,\"#46039f\"],[0.2222222222222222,\"#7201a8\"],[0.3333333333333333,\"#9c179e\"],[0.4444444444444444,\"#bd3786\"],[0.5555555555555556,\"#d8576b\"],[0.6666666666666666,\"#ed7953\"],[0.7777777777777778,\"#fb9f3a\"],[0.8888888888888888,\"#fdca26\"],[1.0,\"#f0f921\"]],\"sequentialminus\":[[0.0,\"#0d0887\"],[0.1111111111111111,\"#46039f\"],[0.2222222222222222,\"#7201a8\"],[0.3333333333333333,\"#9c179e\"],[0.4444444444444444,\"#bd3786\"],[0.5555555555555556,\"#d8576b\"],[0.6666666666666666,\"#ed7953\"],[0.7777777777777778,\"#fb9f3a\"],[0.8888888888888888,\"#fdca26\"],[1.0,\"#f0f921\"]],\"diverging\":[[0,\"#8e0152\"],[0.1,\"#c51b7d\"],[0.2,\"#de77ae\"],[0.3,\"#f1b6da\"],[0.4,\"#fde0ef\"],[0.5,\"#f7f7f7\"],[0.6,\"#e6f5d0\"],[0.7,\"#b8e186\"],[0.8,\"#7fbc41\"],[0.9,\"#4d9221\"],[1,\"#276419\"]]},\"xaxis\":{\"gridcolor\":\"white\",\"linecolor\":\"white\",\"ticks\":\"\",\"title\":{\"standoff\":15},\"zerolinecolor\":\"white\",\"automargin\":true,\"zerolinewidth\":2},\"yaxis\":{\"gridcolor\":\"white\",\"linecolor\":\"white\",\"ticks\":\"\",\"title\":{\"standoff\":15},\"zerolinecolor\":\"white\",\"automargin\":true,\"zerolinewidth\":2},\"scene\":{\"xaxis\":{\"backgroundcolor\":\"#E5ECF6\",\"gridcolor\":\"white\",\"linecolor\":\"white\",\"showbackground\":true,\"ticks\":\"\",\"zerolinecolor\":\"white\",\"gridwidth\":2},\"yaxis\":{\"backgroundcolor\":\"#E5ECF6\",\"gridcolor\":\"white\",\"linecolor\":\"white\",\"showbackground\":true,\"ticks\":\"\",\"zerolinecolor\":\"white\",\"gridwidth\":2},\"zaxis\":{\"backgroundcolor\":\"#E5ECF6\",\"gridcolor\":\"white\",\"linecolor\":\"white\",\"showbackground\":true,\"ticks\":\"\",\"zerolinecolor\":\"white\",\"gridwidth\":2}},\"shapedefaults\":{\"line\":{\"color\":\"#2a3f5f\"}},\"annotationdefaults\":{\"arrowcolor\":\"#2a3f5f\",\"arrowhead\":0,\"arrowwidth\":1},\"geo\":{\"bgcolor\":\"white\",\"landcolor\":\"#E5ECF6\",\"subunitcolor\":\"white\",\"showland\":true,\"showlakes\":true,\"lakecolor\":\"white\"},\"title\":{\"x\":0.05},\"mapbox\":{\"style\":\"light\"}}}},                        {\"responsive\": true}                    ).then(function(){\n",
              "                            \n",
              "var gd = document.getElementById('19ca2940-e102-4feb-bd08-87aee4460991');\n",
              "var x = new MutationObserver(function (mutations, observer) {{\n",
              "        var display = window.getComputedStyle(gd).display;\n",
              "        if (!display || display === 'none') {{\n",
              "            console.log([gd, 'removed!']);\n",
              "            Plotly.purge(gd);\n",
              "            observer.disconnect();\n",
              "        }}\n",
              "}});\n",
              "\n",
              "// Listen for the removal of the full notebook cells\n",
              "var notebookContainer = gd.closest('#notebook-container');\n",
              "if (notebookContainer) {{\n",
              "    x.observe(notebookContainer, {childList: true});\n",
              "}}\n",
              "\n",
              "// Listen for the clearing of the current output cell\n",
              "var outputEl = gd.closest('.output');\n",
              "if (outputEl) {{\n",
              "    x.observe(outputEl, {childList: true});\n",
              "}}\n",
              "\n",
              "                        })                };                            </script>        </div>\n",
              "</body>\n",
              "</html>"
            ]
          },
          "metadata": {}
        }
      ]
    },
    {
      "cell_type": "code",
      "source": [
        "file_name = '/content/drive/MyDrive/DST/test/a_00000003_5000.wav'\n",
        "audio, sample_rate = librosa.load(file_name, res_type='kaiser_fast')\n",
        "\n",
        "print(audio.shape, sample_rate)\n",
        "\n",
        "mfccs = librosa.feature.mfcc(y=audio, sr=sample_rate, n_mfcc=40)\n",
        "print(mfccs.shape)"
      ],
      "metadata": {
        "colab": {
          "base_uri": "https://localhost:8080/"
        },
        "id": "ZToXRLKYlEme",
        "outputId": "1ed0387a-5bd4-46b3-ed30-99359fb3c29e"
      },
      "execution_count": 125,
      "outputs": [
        {
          "output_type": "stream",
          "name": "stdout",
          "text": [
            "(110250,) 22050\n",
            "(40, 216)\n"
          ]
        }
      ]
    },
    {
      "cell_type": "code",
      "source": [
        "librosa.display.specshow(mfccs, sr=sample_rate, x_axis='time')"
      ],
      "metadata": {
        "colab": {
          "base_uri": "https://localhost:8080/",
          "height": 466
        },
        "id": "SsJUWvs8leWe",
        "outputId": "c3f6d554-08b5-473b-ed54-614b6d0586d7"
      },
      "execution_count": 126,
      "outputs": [
        {
          "output_type": "execute_result",
          "data": {
            "text/plain": [
              "<matplotlib.collections.QuadMesh at 0x78f333320fe0>"
            ]
          },
          "metadata": {},
          "execution_count": 126
        },
        {
          "output_type": "display_data",
          "data": {
            "text/plain": [
              "<Figure size 640x480 with 1 Axes>"
            ],
            "image/png": "[encoded data removed]"
          },
          "metadata": {}
        }
      ]
    },
    {
      "cell_type": "code",
      "source": [
        "max_pad_len = 100\n",
        "\n",
        "def extract_features(file_name):\n",
        "    audio, sample_rate = librosa.load(file_name, res_type='kaiser_fast')\n",
        "    mfccs = librosa.feature.mfcc(y=audio, sr=sample_rate, n_mfcc=40)\n",
        "    pad_width = max_pad_len - mfccs.shape[1]\n",
        "    mfccs = np.pad(mfccs, pad_width=((0, 0), (0, max(0, pad_width))), mode='constant')\n",
        "    return mfccs"
      ],
      "metadata": {
        "id": "G9XOJalelhKJ"
      },
      "execution_count": 127,
      "outputs": []
    },
    {
      "cell_type": "code",
      "source": [
        "normal_test_features = []\n",
        "for file_name in glob.glob(normal_test):\n",
        "    data = extract_features(file_name)\n",
        "    normal_test_features.append(data)\n",
        "\n",
        "abnormal_test_features = []\n",
        "for file_name in glob.glob(abnormal_test):\n",
        "    data = extract_features(file_name)\n",
        "    abnormal_test_features.append(data)\n",
        "\n",
        "normal_val_features = []\n",
        "for file_name in glob.glob(normal_val):\n",
        "    data = extract_features(file_name)\n",
        "    normal_val_features.append(data)\n",
        "\n",
        "abnormal_val_features = []\n",
        "for file_name in glob.glob(abnormal_val):\n",
        "    data = extract_features(file_name)\n",
        "    abnormal_val_features.append(data)"
      ],
      "metadata": {
        "id": "ilJnsl8BllAH"
      },
      "execution_count": 128,
      "outputs": []
    },
    {
      "cell_type": "code",
      "source": [
        "normal_test_features[0].shape"
      ],
      "metadata": {
        "colab": {
          "base_uri": "https://localhost:8080/"
        },
        "id": "ppyXGwX_lo_s",
        "outputId": "ed8f0fec-26ba-4fb9-dace-6ee0739f6a71"
      },
      "execution_count": 129,
      "outputs": [
        {
          "output_type": "execute_result",
          "data": {
            "text/plain": [
              "(40, 216)"
            ]
          },
          "metadata": {},
          "execution_count": 129
        }
      ]
    },
    {
      "cell_type": "code",
      "source": [
        "feature_test_table = np.vstack((normal_test_features, abnormal_test_features))\n",
        "print(feature_test_table.shape)"
      ],
      "metadata": {
        "colab": {
          "base_uri": "https://localhost:8080/"
        },
        "id": "eqewBRz_lyIU",
        "outputId": "ebbb2ce7-ae86-4bcd-d1c4-7acc07ec1690"
      },
      "execution_count": 130,
      "outputs": [
        {
          "output_type": "stream",
          "name": "stdout",
          "text": [
            "(208, 40, 216)\n"
          ]
        }
      ]
    },
    {
      "cell_type": "code",
      "source": [
        "y_test_encoded[:10]"
      ],
      "metadata": {
        "colab": {
          "base_uri": "https://localhost:8080/"
        },
        "id": "XaIO9u2RlzpY",
        "outputId": "da96b54a-8fdf-4875-9fe4-ae32f423fb41"
      },
      "execution_count": 131,
      "outputs": [
        {
          "output_type": "execute_result",
          "data": {
            "text/plain": [
              "array([[1., 0.],\n",
              "       [1., 0.],\n",
              "       [1., 0.],\n",
              "       [1., 0.],\n",
              "       [1., 0.],\n",
              "       [1., 0.],\n",
              "       [1., 0.],\n",
              "       [1., 0.],\n",
              "       [1., 0.],\n",
              "       [1., 0.]])"
            ]
          },
          "metadata": {},
          "execution_count": 131
        }
      ]
    },
    {
      "cell_type": "code",
      "source": [
        "feature_val_table = np.vstack((normal_val_features, abnormal_val_features))"
      ],
      "metadata": {
        "id": "zxuRM1rCl1tX"
      },
      "execution_count": 132,
      "outputs": []
    },
    {
      "cell_type": "code",
      "source": [
        "feature_val_table = feature_val_table.reshape(feature_val_table.shape[0], feature_val_table.shape[1], feature_val_table.shape[2], 1)\n",
        "print(feature_val_table.shape)"
      ],
      "metadata": {
        "colab": {
          "base_uri": "https://localhost:8080/"
        },
        "id": "ARByWcZql3sc",
        "outputId": "0b82dedc-3a88-4bcc-b414-151cc2386e7f"
      },
      "execution_count": 133,
      "outputs": [
        {
          "output_type": "stream",
          "name": "stdout",
          "text": [
            "(166, 40, 216, 1)\n"
          ]
        }
      ]
    },
    {
      "cell_type": "code",
      "source": [
        "x_test = feature_test_table.reshape(feature_test_table.shape[0], feature_test_table.shape[1], feature_test_table.shape[2], 1)\n",
        "x_val = feature_val_table\n",
        "y_test = y_test_encoded\n",
        "y_val = y_val_encoded"
      ],
      "metadata": {
        "id": "S0x2bGwXl5hI"
      },
      "execution_count": 134,
      "outputs": []
    },
    {
      "cell_type": "code",
      "source": [
        "x_test.shape, x_val.shape, y_test.shape, y_val.shape"
      ],
      "metadata": {
        "colab": {
          "base_uri": "https://localhost:8080/"
        },
        "id": "HLfW06f5l6-k",
        "outputId": "c94e3243-24a6-48ad-c790-a671f1c6211a"
      },
      "execution_count": 135,
      "outputs": [
        {
          "output_type": "execute_result",
          "data": {
            "text/plain": [
              "((208, 40, 216, 1), (166, 40, 216, 1), (208, 2), (166, 2))"
            ]
          },
          "metadata": {},
          "execution_count": 135
        }
      ]
    },
    {
      "cell_type": "code",
      "source": [
        "num_rows = 40\n",
        "num_columns = 216\n",
        "num_channels = 1\n",
        "num_batch_size = 64\n",
        "epochs = 50"
      ],
      "metadata": {
        "id": "PZ-BJO5Pl_C3"
      },
      "execution_count": 136,
      "outputs": []
    },
    {
      "cell_type": "code",
      "source": [
        "model = Sequential()\n",
        "model.add(Conv2D(filters=16, kernel_size=2, activation='relu', input_shape=(num_rows, num_columns, num_channels)))\n",
        "model.add(MaxPooling2D(pool_size=2))\n",
        "model.add(Dropout(0.2))\n",
        "\n",
        "model.add(Conv2D(filters=32, kernel_size=2, activation='relu'))\n",
        "model.add(MaxPooling2D(pool_size=2))\n",
        "model.add(Dropout(0.2))\n",
        "\n",
        "model.add(Conv2D(filters=64, kernel_size=2, activation='relu'))\n",
        "model.add(MaxPooling2D(pool_size=2))\n",
        "model.add(Dropout(0.2))\n",
        "\n",
        "model.add(Conv2D(filters=128, kernel_size=2, activation='relu'))\n",
        "model.add(MaxPooling2D(pool_size=2))\n",
        "model.add(Dropout(0.2))\n",
        "model.add(GlobalAveragePooling2D())\n",
        "\n",
        "model.add(Dense(2, activation='softmax'))"
      ],
      "metadata": {
        "colab": {
          "base_uri": "https://localhost:8080/"
        },
        "id": "Sx8ds2Q-mGe_",
        "outputId": "ddeba66c-ca25-4ffc-f525-972b2c9a83d5"
      },
      "execution_count": 137,
      "outputs": [
        {
          "output_type": "stream",
          "name": "stderr",
          "text": [
            "/usr/local/lib/python3.12/dist-packages/keras/src/layers/convolutional/base_conv.py:113: UserWarning:\n",
            "\n",
            "Do not pass an `input_shape`/`input_dim` argument to a layer. When using Sequential models, prefer using an `Input(shape)` object as the first layer in the model instead.\n",
            "\n"
          ]
        }
      ]
    },
    {
      "cell_type": "code",
      "source": [
        "model.compile(loss='categorical_crossentropy', metrics=['accuracy'], optimizer='adam')"
      ],
      "metadata": {
        "id": "Qg2ydVeYmILI"
      },
      "execution_count": 138,
      "outputs": []
    },
    {
      "cell_type": "code",
      "source": [
        "from tensorflow.keras.callbacks import ModelCheckpoint\n",
        "\n",
        "checkpoint = ModelCheckpoint('best_model.keras', monitor='val_loss', verbose=1, save_best_only=True, mode='min')"
      ],
      "metadata": {
        "id": "bTlJHGrtmKv7"
      },
      "execution_count": 139,
      "outputs": []
    },
    {
      "cell_type": "code",
      "source": [
        "his = model.fit(x_test, y_test, batch_size=num_batch_size, epochs=epochs, validation_data=(x_val, y_val), verbose=1, callbacks=[checkpoint])"
      ],
      "metadata": {
        "colab": {
          "base_uri": "https://localhost:8080/"
        },
        "id": "mwzcyxKxmQ6i",
        "outputId": "a16890fb-a4ec-491c-cf57-5680b26359f2"
      },
      "execution_count": 140,
      "outputs": [
        {
          "output_type": "stream",
          "name": "stdout",
          "text": [
            "Epoch 1/50\n",
            "\u001b[1m4/4\u001b[0m \u001b[32m━━━━━━━━━━━━━━━━━━━━\u001b[0m\u001b[37m\u001b[0m \u001b[1m0s\u001b[0m 1s/step - accuracy: 0.5879 - loss: 6.5558 \n",
            "Epoch 1: val_loss improved from inf to 4.13429, saving model to best_model.keras\n",
            "\u001b[1m4/4\u001b[0m \u001b[32m━━━━━━━━━━━━━━━━━━━━\u001b[0m\u001b[37m\u001b[0m \u001b[1m11s\u001b[0m 2s/step - accuracy: 0.5761 - loss: 6.5398 - val_accuracy: 0.7169 - val_loss: 4.1343\n",
            "Epoch 2/50\n",
            "\u001b[1m1/4\u001b[0m \u001b[32m━━━━━\u001b[0m\u001b[37m━━━━━━━━━━━━━━━\u001b[0m \u001b[1m0s\u001b[0m 33ms/step - accuracy: 0.7500 - loss: 6.9758\n",
            "Epoch 2: val_loss improved from 4.13429 to 2.92913, saving model to best_model.keras\n",
            "\u001b[1m4/4\u001b[0m \u001b[32m━━━━━━━━━━━━━━━━━━━━\u001b[0m\u001b[37m\u001b[0m \u001b[1m0s\u001b[0m 46ms/step - accuracy: 0.7477 - loss: 7.4854 - val_accuracy: 0.7169 - val_loss: 2.9291\n",
            "Epoch 3/50\n",
            "\u001b[1m1/4\u001b[0m \u001b[32m━━━━━\u001b[0m\u001b[37m━━━━━━━━━━━━━━━\u001b[0m \u001b[1m0s\u001b[0m 43ms/step - accuracy: 0.7188 - loss: 5.8916\n",
            "Epoch 3: val_loss improved from 2.92913 to 1.55545, saving model to best_model.keras\n",
            "\u001b[1m4/4\u001b[0m \u001b[32m━━━━━━━━━━━━━━━━━━━━\u001b[0m\u001b[37m\u001b[0m \u001b[1m0s\u001b[0m 45ms/step - accuracy: 0.7118 - loss: 4.1336 - val_accuracy: 0.2831 - val_loss: 1.5554\n",
            "Epoch 4/50\n",
            "\u001b[1m1/4\u001b[0m \u001b[32m━━━━━\u001b[0m\u001b[37m━━━━━━━━━━━━━━━\u001b[0m \u001b[1m0s\u001b[0m 31ms/step - accuracy: 0.2812 - loss: 3.4125\n",
            "Epoch 4: val_loss improved from 1.55545 to 1.14251, saving model to best_model.keras\n",
            "\u001b[1m4/4\u001b[0m \u001b[32m━━━━━━━━━━━━━━━━━━━━\u001b[0m\u001b[37m\u001b[0m \u001b[1m0s\u001b[0m 45ms/step - accuracy: 0.3679 - loss: 2.5658 - val_accuracy: 0.7169 - val_loss: 1.1425\n",
            "Epoch 5/50\n",
            "\u001b[1m1/4\u001b[0m \u001b[32m━━━━━\u001b[0m\u001b[37m━━━━━━━━━━━━━━━\u001b[0m \u001b[1m0s\u001b[0m 31ms/step - accuracy: 0.7812 - loss: 1.3225\n",
            "Epoch 5: val_loss improved from 1.14251 to 1.05984, saving model to best_model.keras\n",
            "\u001b[1m4/4\u001b[0m \u001b[32m━━━━━━━━━━━━━━━━━━━━\u001b[0m\u001b[37m\u001b[0m \u001b[1m0s\u001b[0m 46ms/step - accuracy: 0.7456 - loss: 1.6890 - val_accuracy: 0.7169 - val_loss: 1.0598\n",
            "Epoch 6/50\n",
            "\u001b[1m1/4\u001b[0m \u001b[32m━━━━━\u001b[0m\u001b[37m━━━━━━━━━━━━━━━\u001b[0m \u001b[1m0s\u001b[0m 32ms/step - accuracy: 0.6875 - loss: 1.7898\n",
            "Epoch 6: val_loss improved from 1.05984 to 0.59323, saving model to best_model.keras\n",
            "\u001b[1m4/4\u001b[0m \u001b[32m━━━━━━━━━━━━━━━━━━━━\u001b[0m\u001b[37m\u001b[0m \u001b[1m0s\u001b[0m 45ms/step - accuracy: 0.7019 - loss: 1.2901 - val_accuracy: 0.7169 - val_loss: 0.5932\n",
            "Epoch 7/50\n",
            "\u001b[1m1/4\u001b[0m \u001b[32m━━━━━\u001b[0m\u001b[37m━━━━━━━━━━━━━━━\u001b[0m \u001b[1m0s\u001b[0m 32ms/step - accuracy: 0.5000 - loss: 1.2693\n",
            "Epoch 7: val_loss did not improve from 0.59323\n",
            "\u001b[1m4/4\u001b[0m \u001b[32m━━━━━━━━━━━━━━━━━━━━\u001b[0m\u001b[37m\u001b[0m \u001b[1m0s\u001b[0m 30ms/step - accuracy: 0.5432 - loss: 1.0482 - val_accuracy: 0.7169 - val_loss: 0.7236\n",
            "Epoch 8/50\n",
            "\u001b[1m1/4\u001b[0m \u001b[32m━━━━━\u001b[0m\u001b[37m━━━━━━━━━━━━━━━\u001b[0m \u001b[1m0s\u001b[0m 31ms/step - accuracy: 0.7500 - loss: 0.8379\n",
            "Epoch 8: val_loss did not improve from 0.59323\n",
            "\u001b[1m4/4\u001b[0m \u001b[32m━━━━━━━━━━━━━━━━━━━━\u001b[0m\u001b[37m\u001b[0m \u001b[1m0s\u001b[0m 30ms/step - accuracy: 0.7645 - loss: 0.7733 - val_accuracy: 0.7169 - val_loss: 0.6743\n",
            "Epoch 9/50\n",
            "\u001b[1m1/4\u001b[0m \u001b[32m━━━━━\u001b[0m\u001b[37m━━━━━━━━━━━━━━━\u001b[0m \u001b[1m0s\u001b[0m 31ms/step - accuracy: 0.7656 - loss: 0.6332\n",
            "Epoch 9: val_loss improved from 0.59323 to 0.55852, saving model to best_model.keras\n",
            "\u001b[1m4/4\u001b[0m \u001b[32m━━━━━━━━━━━━━━━━━━━━\u001b[0m\u001b[37m\u001b[0m \u001b[1m0s\u001b[0m 49ms/step - accuracy: 0.7709 - loss: 0.5566 - val_accuracy: 0.7169 - val_loss: 0.5585\n",
            "Epoch 10/50\n",
            "\u001b[1m1/4\u001b[0m \u001b[32m━━━━━\u001b[0m\u001b[37m━━━━━━━━━━━━━━━\u001b[0m \u001b[1m0s\u001b[0m 32ms/step - accuracy: 0.8125 - loss: 0.4154\n",
            "Epoch 10: val_loss did not improve from 0.55852\n",
            "\u001b[1m4/4\u001b[0m \u001b[32m━━━━━━━━━━━━━━━━━━━━\u001b[0m\u001b[37m\u001b[0m \u001b[1m0s\u001b[0m 30ms/step - accuracy: 0.8041 - loss: 0.4562 - val_accuracy: 0.7169 - val_loss: 0.6462\n",
            "Epoch 11/50\n",
            "\u001b[1m1/4\u001b[0m \u001b[32m━━━━━\u001b[0m\u001b[37m━━━━━━━━━━━━━━━\u001b[0m \u001b[1m0s\u001b[0m 31ms/step - accuracy: 0.8281 - loss: 0.5261\n",
            "Epoch 11: val_loss improved from 0.55852 to 0.53590, saving model to best_model.keras\n",
            "\u001b[1m4/4\u001b[0m \u001b[32m━━━━━━━━━━━━━━━━━━━━\u001b[0m\u001b[37m\u001b[0m \u001b[1m0s\u001b[0m 44ms/step - accuracy: 0.8310 - loss: 0.4693 - val_accuracy: 0.7169 - val_loss: 0.5359\n",
            "Epoch 12/50\n",
            "\u001b[1m1/4\u001b[0m \u001b[32m━━━━━\u001b[0m\u001b[37m━━━━━━━━━━━━━━━\u001b[0m \u001b[1m0s\u001b[0m 30ms/step - accuracy: 0.8125 - loss: 0.3839\n",
            "Epoch 12: val_loss did not improve from 0.53590\n",
            "\u001b[1m4/4\u001b[0m \u001b[32m━━━━━━━━━━━━━━━━━━━━\u001b[0m\u001b[37m\u001b[0m \u001b[1m0s\u001b[0m 30ms/step - accuracy: 0.8324 - loss: 0.3838 - val_accuracy: 0.7169 - val_loss: 0.6509\n",
            "Epoch 13/50\n",
            "\u001b[1m1/4\u001b[0m \u001b[32m━━━━━\u001b[0m\u001b[37m━━━━━━━━━━━━━━━\u001b[0m \u001b[1m0s\u001b[0m 31ms/step - accuracy: 0.8594 - loss: 0.3605\n",
            "Epoch 13: val_loss did not improve from 0.53590\n",
            "\u001b[1m4/4\u001b[0m \u001b[32m━━━━━━━━━━━━━━━━━━━━\u001b[0m\u001b[37m\u001b[0m \u001b[1m0s\u001b[0m 40ms/step - accuracy: 0.8687 - loss: 0.3846 - val_accuracy: 0.7169 - val_loss: 0.6347\n",
            "Epoch 14/50\n",
            "\u001b[1m1/4\u001b[0m \u001b[32m━━━━━\u001b[0m\u001b[37m━━━━━━━━━━━━━━━\u001b[0m \u001b[1m0s\u001b[0m 51ms/step - accuracy: 0.8281 - loss: 0.3242\n",
            "Epoch 14: val_loss did not improve from 0.53590\n",
            "\u001b[1m4/4\u001b[0m \u001b[32m━━━━━━━━━━━━━━━━━━━━\u001b[0m\u001b[37m\u001b[0m \u001b[1m0s\u001b[0m 48ms/step - accuracy: 0.8102 - loss: 0.4011 - val_accuracy: 0.7169 - val_loss: 0.5497\n",
            "Epoch 15/50\n",
            "\u001b[1m1/4\u001b[0m \u001b[32m━━━━━\u001b[0m\u001b[37m━━━━━━━━━━━━━━━\u001b[0m \u001b[1m0s\u001b[0m 42ms/step - accuracy: 0.8438 - loss: 0.3573\n",
            "Epoch 15: val_loss did not improve from 0.53590\n",
            "\u001b[1m4/4\u001b[0m \u001b[32m━━━━━━━━━━━━━━━━━━━━\u001b[0m\u001b[37m\u001b[0m \u001b[1m0s\u001b[0m 41ms/step - accuracy: 0.8649 - loss: 0.3353 - val_accuracy: 0.7169 - val_loss: 0.7120\n",
            "Epoch 16/50\n",
            "\u001b[1m1/4\u001b[0m \u001b[32m━━━━━\u001b[0m\u001b[37m━━━━━━━━━━━━━━━\u001b[0m \u001b[1m0s\u001b[0m 45ms/step - accuracy: 0.8750 - loss: 0.3059\n",
            "Epoch 16: val_loss improved from 0.53590 to 0.52862, saving model to best_model.keras\n",
            "\u001b[1m4/4\u001b[0m \u001b[32m━━━━━━━━━━━━━━━━━━━━\u001b[0m\u001b[37m\u001b[0m \u001b[1m0s\u001b[0m 66ms/step - accuracy: 0.8722 - loss: 0.3377 - val_accuracy: 0.7470 - val_loss: 0.5286\n",
            "Epoch 17/50\n",
            "\u001b[1m1/4\u001b[0m \u001b[32m━━━━━\u001b[0m\u001b[37m━━━━━━━━━━━━━━━\u001b[0m \u001b[1m0s\u001b[0m 42ms/step - accuracy: 0.8125 - loss: 0.5150\n",
            "Epoch 17: val_loss did not improve from 0.52862\n",
            "\u001b[1m4/4\u001b[0m \u001b[32m━━━━━━━━━━━━━━━━━━━━\u001b[0m\u001b[37m\u001b[0m \u001b[1m0s\u001b[0m 38ms/step - accuracy: 0.8158 - loss: 0.4554 - val_accuracy: 0.7229 - val_loss: 0.6234\n",
            "Epoch 18/50\n",
            "\u001b[1m1/4\u001b[0m \u001b[32m━━━━━\u001b[0m\u001b[37m━━━━━━━━━━━━━━━\u001b[0m \u001b[1m0s\u001b[0m 182ms/step - accuracy: 0.8750 - loss: 0.3537\n",
            "Epoch 18: val_loss did not improve from 0.52862\n",
            "\u001b[1m4/4\u001b[0m \u001b[32m━━━━━━━━━━━━━━━━━━━━\u001b[0m\u001b[37m\u001b[0m \u001b[1m0s\u001b[0m 42ms/step - accuracy: 0.8703 - loss: 0.3511 - val_accuracy: 0.7169 - val_loss: 0.6888\n",
            "Epoch 19/50\n",
            "\u001b[1m1/4\u001b[0m \u001b[32m━━━━━\u001b[0m\u001b[37m━━━━━━━━━━━━━━━\u001b[0m \u001b[1m0s\u001b[0m 43ms/step - accuracy: 0.9531 - loss: 0.2119\n",
            "Epoch 19: val_loss did not improve from 0.52862\n",
            "\u001b[1m4/4\u001b[0m \u001b[32m━━━━━━━━━━━━━━━━━━━━\u001b[0m\u001b[37m\u001b[0m \u001b[1m0s\u001b[0m 38ms/step - accuracy: 0.9218 - loss: 0.2542 - val_accuracy: 0.7410 - val_loss: 0.5918\n",
            "Epoch 20/50\n",
            "\u001b[1m1/4\u001b[0m \u001b[32m━━━━━\u001b[0m\u001b[37m━━━━━━━━━━━━━━━\u001b[0m \u001b[1m0s\u001b[0m 42ms/step - accuracy: 0.8438 - loss: 0.3945\n",
            "Epoch 20: val_loss did not improve from 0.52862\n",
            "\u001b[1m4/4\u001b[0m \u001b[32m━━━━━━━━━━━━━━━━━━━━\u001b[0m\u001b[37m\u001b[0m \u001b[1m0s\u001b[0m 37ms/step - accuracy: 0.8902 - loss: 0.2883 - val_accuracy: 0.7410 - val_loss: 0.6379\n",
            "Epoch 21/50\n",
            "\u001b[1m1/4\u001b[0m \u001b[32m━━━━━\u001b[0m\u001b[37m━━━━━━━━━━━━━━━\u001b[0m \u001b[1m0s\u001b[0m 187ms/step - accuracy: 0.8594 - loss: 0.2283\n",
            "Epoch 21: val_loss did not improve from 0.52862\n",
            "\u001b[1m4/4\u001b[0m \u001b[32m━━━━━━━━━━━━━━━━━━━━\u001b[0m\u001b[37m\u001b[0m \u001b[1m0s\u001b[0m 38ms/step - accuracy: 0.8837 - loss: 0.2572 - val_accuracy: 0.7470 - val_loss: 0.5982\n",
            "Epoch 22/50\n",
            "\u001b[1m1/4\u001b[0m \u001b[32m━━━━━\u001b[0m\u001b[37m━━━━━━━━━━━━━━━\u001b[0m \u001b[1m0s\u001b[0m 40ms/step - accuracy: 0.8906 - loss: 0.2490\n",
            "Epoch 22: val_loss did not improve from 0.52862\n",
            "\u001b[1m4/4\u001b[0m \u001b[32m━━━━━━━━━━━━━━━━━━━━\u001b[0m\u001b[37m\u001b[0m \u001b[1m0s\u001b[0m 47ms/step - accuracy: 0.8872 - loss: 0.2949 - val_accuracy: 0.7590 - val_loss: 0.5971\n",
            "Epoch 23/50\n",
            "\u001b[1m1/4\u001b[0m \u001b[32m━━━━━\u001b[0m\u001b[37m━━━━━━━━━━━━━━━\u001b[0m \u001b[1m0s\u001b[0m 43ms/step - accuracy: 0.8750 - loss: 0.3424\n",
            "Epoch 23: val_loss did not improve from 0.52862\n",
            "\u001b[1m4/4\u001b[0m \u001b[32m━━━━━━━━━━━━━━━━━━━━\u001b[0m\u001b[37m\u001b[0m \u001b[1m0s\u001b[0m 39ms/step - accuracy: 0.8964 - loss: 0.3185 - val_accuracy: 0.7590 - val_loss: 0.5870\n",
            "Epoch 24/50\n",
            "\u001b[1m1/4\u001b[0m \u001b[32m━━━━━\u001b[0m\u001b[37m━━━━━━━━━━━━━━━\u001b[0m \u001b[1m0s\u001b[0m 42ms/step - accuracy: 0.8750 - loss: 0.2388\n",
            "Epoch 24: val_loss did not improve from 0.52862\n",
            "\u001b[1m4/4\u001b[0m \u001b[32m━━━━━━━━━━━━━━━━━━━━\u001b[0m\u001b[37m\u001b[0m \u001b[1m0s\u001b[0m 43ms/step - accuracy: 0.8829 - loss: 0.2804 - val_accuracy: 0.7711 - val_loss: 0.5440\n",
            "Epoch 25/50\n",
            "\u001b[1m1/4\u001b[0m \u001b[32m━━━━━\u001b[0m\u001b[37m━━━━━━━━━━━━━━━\u001b[0m \u001b[1m0s\u001b[0m 42ms/step - accuracy: 0.9062 - loss: 0.2929\n",
            "Epoch 25: val_loss did not improve from 0.52862\n",
            "\u001b[1m4/4\u001b[0m \u001b[32m━━━━━━━━━━━━━━━━━━━━\u001b[0m\u001b[37m\u001b[0m \u001b[1m0s\u001b[0m 52ms/step - accuracy: 0.9147 - loss: 0.2596 - val_accuracy: 0.7771 - val_loss: 0.5292\n",
            "Epoch 26/50\n",
            "\u001b[1m1/4\u001b[0m \u001b[32m━━━━━\u001b[0m\u001b[37m━━━━━━━━━━━━━━━\u001b[0m \u001b[1m0s\u001b[0m 54ms/step - accuracy: 0.9062 - loss: 0.3118\n",
            "Epoch 26: val_loss did not improve from 0.52862\n",
            "\u001b[1m4/4\u001b[0m \u001b[32m━━━━━━━━━━━━━━━━━━━━\u001b[0m\u001b[37m\u001b[0m \u001b[1m0s\u001b[0m 50ms/step - accuracy: 0.9072 - loss: 0.2826 - val_accuracy: 0.7590 - val_loss: 0.5943\n",
            "Epoch 27/50\n",
            "\u001b[1m1/4\u001b[0m \u001b[32m━━━━━\u001b[0m\u001b[37m━━━━━━━━━━━━━━━\u001b[0m \u001b[1m0s\u001b[0m 38ms/step - accuracy: 0.9219 - loss: 0.1887\n",
            "Epoch 27: val_loss improved from 0.52862 to 0.47539, saving model to best_model.keras\n",
            "\u001b[1m4/4\u001b[0m \u001b[32m━━━━━━━━━━━━━━━━━━━━\u001b[0m\u001b[37m\u001b[0m \u001b[1m0s\u001b[0m 45ms/step - accuracy: 0.9171 - loss: 0.2317 - val_accuracy: 0.8012 - val_loss: 0.4754\n",
            "Epoch 28/50\n",
            "\u001b[1m1/4\u001b[0m \u001b[32m━━━━━\u001b[0m\u001b[37m━━━━━━━━━━━━━━━\u001b[0m \u001b[1m0s\u001b[0m 33ms/step - accuracy: 0.9375 - loss: 0.2394\n",
            "Epoch 28: val_loss did not improve from 0.47539\n",
            "\u001b[1m4/4\u001b[0m \u001b[32m━━━━━━━━━━━━━━━━━━━━\u001b[0m\u001b[37m\u001b[0m \u001b[1m0s\u001b[0m 30ms/step - accuracy: 0.9150 - loss: 0.2989 - val_accuracy: 0.8012 - val_loss: 0.4765\n",
            "Epoch 29/50\n",
            "\u001b[1m1/4\u001b[0m \u001b[32m━━━━━\u001b[0m\u001b[37m━━━━━━━━━━━━━━━\u001b[0m \u001b[1m0s\u001b[0m 32ms/step - accuracy: 0.8750 - loss: 0.5029\n",
            "Epoch 29: val_loss did not improve from 0.47539\n",
            "\u001b[1m4/4\u001b[0m \u001b[32m━━━━━━━━━━━━━━━━━━━━\u001b[0m\u001b[37m\u001b[0m \u001b[1m0s\u001b[0m 29ms/step - accuracy: 0.9173 - loss: 0.3426 - val_accuracy: 0.7892 - val_loss: 0.5048\n",
            "Epoch 30/50\n",
            "\u001b[1m1/4\u001b[0m \u001b[32m━━━━━\u001b[0m\u001b[37m━━━━━━━━━━━━━━━\u001b[0m \u001b[1m0s\u001b[0m 31ms/step - accuracy: 0.9219 - loss: 0.1623\n",
            "Epoch 30: val_loss improved from 0.47539 to 0.38339, saving model to best_model.keras\n",
            "\u001b[1m4/4\u001b[0m \u001b[32m━━━━━━━━━━━━━━━━━━━━\u001b[0m\u001b[37m\u001b[0m \u001b[1m0s\u001b[0m 44ms/step - accuracy: 0.9110 - loss: 0.2069 - val_accuracy: 0.8193 - val_loss: 0.3834\n",
            "Epoch 31/50\n",
            "\u001b[1m1/4\u001b[0m \u001b[32m━━━━━\u001b[0m\u001b[37m━━━━━━━━━━━━━━━\u001b[0m \u001b[1m0s\u001b[0m 32ms/step - accuracy: 0.8594 - loss: 0.4059\n",
            "Epoch 31: val_loss did not improve from 0.38339\n",
            "\u001b[1m4/4\u001b[0m \u001b[32m━━━━━━━━━━━━━━━━━━━━\u001b[0m\u001b[37m\u001b[0m \u001b[1m0s\u001b[0m 29ms/step - accuracy: 0.9067 - loss: 0.2827 - val_accuracy: 0.8072 - val_loss: 0.4024\n",
            "Epoch 32/50\n",
            "\u001b[1m1/4\u001b[0m \u001b[32m━━━━━\u001b[0m\u001b[37m━━━━━━━━━━━━━━━\u001b[0m \u001b[1m0s\u001b[0m 34ms/step - accuracy: 0.9531 - loss: 0.1705\n",
            "Epoch 32: val_loss did not improve from 0.38339\n",
            "\u001b[1m4/4\u001b[0m \u001b[32m━━━━━━━━━━━━━━━━━━━━\u001b[0m\u001b[37m\u001b[0m \u001b[1m0s\u001b[0m 30ms/step - accuracy: 0.9378 - loss: 0.2130 - val_accuracy: 0.8133 - val_loss: 0.3849\n",
            "Epoch 33/50\n",
            "\u001b[1m1/4\u001b[0m \u001b[32m━━━━━\u001b[0m\u001b[37m━━━━━━━━━━━━━━━\u001b[0m \u001b[1m0s\u001b[0m 42ms/step - accuracy: 0.9531 - loss: 0.1902\n",
            "Epoch 33: val_loss improved from 0.38339 to 0.36766, saving model to best_model.keras\n",
            "\u001b[1m4/4\u001b[0m \u001b[32m━━━━━━━━━━━━━━━━━━━━\u001b[0m\u001b[37m\u001b[0m \u001b[1m0s\u001b[0m 45ms/step - accuracy: 0.9438 - loss: 0.2084 - val_accuracy: 0.8253 - val_loss: 0.3677\n",
            "Epoch 34/50\n",
            "\u001b[1m1/4\u001b[0m \u001b[32m━━━━━\u001b[0m\u001b[37m━━━━━━━━━━━━━━━\u001b[0m \u001b[1m0s\u001b[0m 34ms/step - accuracy: 0.9219 - loss: 0.1350\n",
            "Epoch 34: val_loss improved from 0.36766 to 0.36636, saving model to best_model.keras\n",
            "\u001b[1m4/4\u001b[0m \u001b[32m━━━━━━━━━━━━━━━━━━━━\u001b[0m\u001b[37m\u001b[0m \u001b[1m0s\u001b[0m 46ms/step - accuracy: 0.9117 - loss: 0.2105 - val_accuracy: 0.8313 - val_loss: 0.3664\n",
            "Epoch 35/50\n",
            "\u001b[1m1/4\u001b[0m \u001b[32m━━━━━\u001b[0m\u001b[37m━━━━━━━━━━━━━━━\u001b[0m \u001b[1m0s\u001b[0m 32ms/step - accuracy: 0.9688 - loss: 0.1397\n",
            "Epoch 35: val_loss improved from 0.36636 to 0.34246, saving model to best_model.keras\n",
            "\u001b[1m4/4\u001b[0m \u001b[32m━━━━━━━━━━━━━━━━━━━━\u001b[0m\u001b[37m\u001b[0m \u001b[1m0s\u001b[0m 45ms/step - accuracy: 0.9380 - loss: 0.2037 - val_accuracy: 0.8434 - val_loss: 0.3425\n",
            "Epoch 36/50\n",
            "\u001b[1m1/4\u001b[0m \u001b[32m━━━━━\u001b[0m\u001b[37m━━━━━━━━━━━━━━━\u001b[0m \u001b[1m0s\u001b[0m 31ms/step - accuracy: 0.9531 - loss: 0.1441\n",
            "Epoch 36: val_loss did not improve from 0.34246\n",
            "\u001b[1m4/4\u001b[0m \u001b[32m━━━━━━━━━━━━━━━━━━━━\u001b[0m\u001b[37m\u001b[0m \u001b[1m0s\u001b[0m 29ms/step - accuracy: 0.9452 - loss: 0.1899 - val_accuracy: 0.8434 - val_loss: 0.3510\n",
            "Epoch 37/50\n",
            "\u001b[1m1/4\u001b[0m \u001b[32m━━━━━\u001b[0m\u001b[37m━━━━━━━━━━━━━━━\u001b[0m \u001b[1m0s\u001b[0m 31ms/step - accuracy: 0.9219 - loss: 0.3301\n",
            "Epoch 37: val_loss did not improve from 0.34246\n",
            "\u001b[1m4/4\u001b[0m \u001b[32m━━━━━━━━━━━━━━━━━━━━\u001b[0m\u001b[37m\u001b[0m \u001b[1m0s\u001b[0m 29ms/step - accuracy: 0.9115 - loss: 0.2797 - val_accuracy: 0.8434 - val_loss: 0.3527\n",
            "Epoch 38/50\n",
            "\u001b[1m1/4\u001b[0m \u001b[32m━━━━━\u001b[0m\u001b[37m━━━━━━━━━━━━━━━\u001b[0m \u001b[1m0s\u001b[0m 31ms/step - accuracy: 0.9219 - loss: 0.3055\n",
            "Epoch 38: val_loss did not improve from 0.34246\n",
            "\u001b[1m4/4\u001b[0m \u001b[32m━━━━━━━━━━━━━━━━━━━━\u001b[0m\u001b[37m\u001b[0m \u001b[1m0s\u001b[0m 29ms/step - accuracy: 0.9175 - loss: 0.2525 - val_accuracy: 0.8373 - val_loss: 0.3628\n",
            "Epoch 39/50\n",
            "\u001b[1m1/4\u001b[0m \u001b[32m━━━━━\u001b[0m\u001b[37m━━━━━━━━━━━━━━━\u001b[0m \u001b[1m0s\u001b[0m 33ms/step - accuracy: 0.9531 - loss: 0.1607\n",
            "Epoch 39: val_loss improved from 0.34246 to 0.31905, saving model to best_model.keras\n",
            "\u001b[1m4/4\u001b[0m \u001b[32m━━━━━━━━━━━━━━━━━━━━\u001b[0m\u001b[37m\u001b[0m \u001b[1m0s\u001b[0m 48ms/step - accuracy: 0.9337 - loss: 0.2044 - val_accuracy: 0.8494 - val_loss: 0.3191\n",
            "Epoch 40/50\n",
            "\u001b[1m1/4\u001b[0m \u001b[32m━━━━━\u001b[0m\u001b[37m━━━━━━━━━━━━━━━\u001b[0m \u001b[1m0s\u001b[0m 34ms/step - accuracy: 0.9531 - loss: 0.2308\n",
            "Epoch 40: val_loss did not improve from 0.31905\n",
            "\u001b[1m4/4\u001b[0m \u001b[32m━━━━━━━━━━━━━━━━━━━━\u001b[0m\u001b[37m\u001b[0m \u001b[1m0s\u001b[0m 31ms/step - accuracy: 0.9404 - loss: 0.2212 - val_accuracy: 0.8494 - val_loss: 0.3290\n",
            "Epoch 41/50\n",
            "\u001b[1m1/4\u001b[0m \u001b[32m━━━━━\u001b[0m\u001b[37m━━━━━━━━━━━━━━━\u001b[0m \u001b[1m0s\u001b[0m 32ms/step - accuracy: 0.9688 - loss: 0.1006\n",
            "Epoch 41: val_loss improved from 0.31905 to 0.30206, saving model to best_model.keras\n",
            "\u001b[1m4/4\u001b[0m \u001b[32m━━━━━━━━━━━━━━━━━━━━\u001b[0m\u001b[37m\u001b[0m \u001b[1m0s\u001b[0m 45ms/step - accuracy: 0.9420 - loss: 0.1919 - val_accuracy: 0.8735 - val_loss: 0.3021\n",
            "Epoch 42/50\n",
            "\u001b[1m1/4\u001b[0m \u001b[32m━━━━━\u001b[0m\u001b[37m━━━━━━━━━━━━━━━\u001b[0m \u001b[1m0s\u001b[0m 164ms/step - accuracy: 0.9531 - loss: 0.1475\n",
            "Epoch 42: val_loss did not improve from 0.30206\n",
            "\u001b[1m4/4\u001b[0m \u001b[32m━━━━━━━━━━━━━━━━━━━━\u001b[0m\u001b[37m\u001b[0m \u001b[1m0s\u001b[0m 30ms/step - accuracy: 0.9523 - loss: 0.1710 - val_accuracy: 0.8434 - val_loss: 0.3456\n",
            "Epoch 43/50\n",
            "\u001b[1m1/4\u001b[0m \u001b[32m━━━━━\u001b[0m\u001b[37m━━━━━━━━━━━━━━━\u001b[0m \u001b[1m0s\u001b[0m 31ms/step - accuracy: 0.9688 - loss: 0.1282\n",
            "Epoch 43: val_loss improved from 0.30206 to 0.29023, saving model to best_model.keras\n",
            "\u001b[1m4/4\u001b[0m \u001b[32m━━━━━━━━━━━━━━━━━━━━\u001b[0m\u001b[37m\u001b[0m \u001b[1m0s\u001b[0m 44ms/step - accuracy: 0.9444 - loss: 0.2015 - val_accuracy: 0.8976 - val_loss: 0.2902\n",
            "Epoch 44/50\n",
            "\u001b[1m1/4\u001b[0m \u001b[32m━━━━━\u001b[0m\u001b[37m━━━━━━━━━━━━━━━\u001b[0m \u001b[1m0s\u001b[0m 37ms/step - accuracy: 0.9219 - loss: 0.2301\n",
            "Epoch 44: val_loss did not improve from 0.29023\n",
            "\u001b[1m4/4\u001b[0m \u001b[32m━━━━━━━━━━━━━━━━━━━━\u001b[0m\u001b[37m\u001b[0m \u001b[1m0s\u001b[0m 29ms/step - accuracy: 0.9328 - loss: 0.2135 - val_accuracy: 0.8434 - val_loss: 0.3347\n",
            "Epoch 45/50\n",
            "\u001b[1m1/4\u001b[0m \u001b[32m━━━━━\u001b[0m\u001b[37m━━━━━━━━━━━━━━━\u001b[0m \u001b[1m0s\u001b[0m 30ms/step - accuracy: 0.9219 - loss: 0.1615\n",
            "Epoch 45: val_loss did not improve from 0.29023\n",
            "\u001b[1m4/4\u001b[0m \u001b[32m━━━━━━━━━━━━━━━━━━━━\u001b[0m\u001b[37m\u001b[0m \u001b[1m0s\u001b[0m 30ms/step - accuracy: 0.9298 - loss: 0.2143 - val_accuracy: 0.8554 - val_loss: 0.3156\n",
            "Epoch 46/50\n",
            "\u001b[1m1/4\u001b[0m \u001b[32m━━━━━\u001b[0m\u001b[37m━━━━━━━━━━━━━━━\u001b[0m \u001b[1m0s\u001b[0m 39ms/step - accuracy: 0.9688 - loss: 0.1204\n",
            "Epoch 46: val_loss did not improve from 0.29023\n",
            "\u001b[1m4/4\u001b[0m \u001b[32m━━━━━━━━━━━━━━━━━━━━\u001b[0m\u001b[37m\u001b[0m \u001b[1m0s\u001b[0m 30ms/step - accuracy: 0.9512 - loss: 0.1811 - val_accuracy: 0.8735 - val_loss: 0.2944\n",
            "Epoch 47/50\n",
            "\u001b[1m1/4\u001b[0m \u001b[32m━━━━━\u001b[0m\u001b[37m━━━━━━━━━━━━━━━\u001b[0m \u001b[1m0s\u001b[0m 33ms/step - accuracy: 0.9375 - loss: 0.1912\n",
            "Epoch 47: val_loss did not improve from 0.29023\n",
            "\u001b[1m4/4\u001b[0m \u001b[32m━━━━━━━━━━━━━━━━━━━━\u001b[0m\u001b[37m\u001b[0m \u001b[1m0s\u001b[0m 30ms/step - accuracy: 0.9337 - loss: 0.2015 - val_accuracy: 0.8494 - val_loss: 0.3232\n",
            "Epoch 48/50\n",
            "\u001b[1m1/4\u001b[0m \u001b[32m━━━━━\u001b[0m\u001b[37m━━━━━━━━━━━━━━━\u001b[0m \u001b[1m0s\u001b[0m 31ms/step - accuracy: 0.9844 - loss: 0.1590\n",
            "Epoch 48: val_loss did not improve from 0.29023\n",
            "\u001b[1m4/4\u001b[0m \u001b[32m━━━━━━━━━━━━━━━━━━━━\u001b[0m\u001b[37m\u001b[0m \u001b[1m0s\u001b[0m 29ms/step - accuracy: 0.9565 - loss: 0.1919 - val_accuracy: 0.8554 - val_loss: 0.3201\n",
            "Epoch 49/50\n",
            "\u001b[1m1/4\u001b[0m \u001b[32m━━━━━\u001b[0m\u001b[37m━━━━━━━━━━━━━━━\u001b[0m \u001b[1m0s\u001b[0m 31ms/step - accuracy: 0.9062 - loss: 0.1453\n",
            "Epoch 49: val_loss did not improve from 0.29023\n",
            "\u001b[1m4/4\u001b[0m \u001b[32m━━━━━━━━━━━━━━━━━━━━\u001b[0m\u001b[37m\u001b[0m \u001b[1m0s\u001b[0m 29ms/step - accuracy: 0.9361 - loss: 0.1522 - val_accuracy: 0.8494 - val_loss: 0.3326\n",
            "Epoch 50/50\n",
            "\u001b[1m1/4\u001b[0m \u001b[32m━━━━━\u001b[0m\u001b[37m━━━━━━━━━━━━━━━\u001b[0m \u001b[1m0s\u001b[0m 31ms/step - accuracy: 0.9531 - loss: 0.2622\n",
            "Epoch 50: val_loss did not improve from 0.29023\n",
            "\u001b[1m4/4\u001b[0m \u001b[32m━━━━━━━━━━━━━━━━━━━━\u001b[0m\u001b[37m\u001b[0m \u001b[1m0s\u001b[0m 29ms/step - accuracy: 0.9561 - loss: 0.2046 - val_accuracy: 0.8494 - val_loss: 0.3367\n"
          ]
        }
      ]
    },
    {
      "cell_type": "code",
      "source": [
        "h1 = go.Scatter(y=his.history['loss'],\n",
        "                    mode=\"lines\", line=dict(\n",
        "                    width=2,\n",
        "                    color='blue'),\n",
        "                    name=\"loss\"\n",
        "                   )\n",
        "h2 = go.Scatter(y=his.history['val_loss'],\n",
        "                    mode=\"lines\", line=dict(\n",
        "                    width=2,\n",
        "                    color='red'),\n",
        "                    name=\"val_loss\"\n",
        "                   )\n",
        "\n",
        "data = [h1,h2]\n",
        "layout1 = go.Layout(title='Loss',\n",
        "                   xaxis=dict(title='epochs'),\n",
        "                   yaxis=dict(title=''))\n",
        "fig1 = go.Figure(data = data, layout=layout1)\n",
        "fig1.show()"
      ],
      "metadata": {
        "colab": {
          "base_uri": "https://localhost:8080/",
          "height": 542
        },
        "id": "Vhd32342mTl4",
        "outputId": "aea0e6e8-2131-4eb2-b883-19adf7b2c706"
      },
      "execution_count": 141,
      "outputs": [
        {
          "output_type": "display_data",
          "data": {
            "text/html": [
              "<html>\n",
              "<head><meta charset=\"utf-8\" /></head>\n",
              "<body>\n",
              "    <div>            <script src=\"https://cdnjs.cloudflare.com/ajax/libs/mathjax/2.7.5/MathJax.js?config=TeX-AMS-MML_SVG\"></script><script type=\"text/javascript\">if (window.MathJax && window.MathJax.Hub && window.MathJax.Hub.Config) {window.MathJax.Hub.Config({SVG: {font: \"STIX-Web\"}});}</script>                <script type=\"text/javascript\">window.PlotlyConfig = {MathJaxConfig: 'local'};</script>\n",
              "        <script charset=\"utf-8\" src=\"https://cdn.plot.ly/plotly-2.35.2.min.js\"></script>                <div id=\"a49f61d5-93b5-417d-be39-11a556631b5c\" class=\"plotly-graph-div\" style=\"height:525px; width:100%;\"></div>            <script type=\"text/javascript\">                                    window.PLOTLYENV=window.PLOTLYENV || {};                                    if (document.getElementById(\"a49f61d5-93b5-417d-be39-11a556631b5c\")) {                    Plotly.newPlot(                        \"a49f61d5-93b5-417d-be39-11a556631b5c\",                        [{\"line\":{\"color\":\"blue\",\"width\":2},\"mode\":\"lines\",\"name\":\"loss\",\"y\":[6.475698471069336,7.765435218811035,3.3966801166534424,2.1533172130584717,1.7442899942398071,1.1091694831848145,0.9846876859664917,0.7556987404823303,0.5130382180213928,0.47129014134407043,0.42943131923675537,0.3778357207775116,0.4221048355102539,0.4412879943847656,0.3447079658508301,0.36734554171562195,0.4244512915611267,0.3587130308151245,0.27091488242149353,0.2519497871398926,0.25986117124557495,0.30466756224632263,0.31975942850112915,0.27848225831985474,0.24962632358074188,0.2745218276977539,0.2681441605091095,0.3061811625957489,0.28091126680374146,0.23772063851356506,0.2416391372680664,0.22383686900138855,0.22072124481201172,0.22481587529182434,0.23292626440525055,0.21148282289505005,0.2655470669269562,0.2269643396139145,0.2163076400756836,0.24240800738334656,0.23062632977962494,0.20398566126823425,0.21979738771915436,0.21356000006198883,0.22369743883609772,0.19326448440551758,0.21816350519657135,0.21136444807052612,0.16129811108112335,0.18901436030864716],\"type\":\"scatter\"},{\"line\":{\"color\":\"red\",\"width\":2},\"mode\":\"lines\",\"name\":\"val_loss\",\"y\":[4.134286403656006,2.929126501083374,1.5554498434066772,1.1425143480300903,1.0598360300064087,0.5932258367538452,0.7236075401306152,0.674292802810669,0.5585213899612427,0.646245539188385,0.5358996391296387,0.6508545875549316,0.6346598267555237,0.549740195274353,0.7119687795639038,0.5286176800727844,0.6233649253845215,0.6888148784637451,0.5918454527854919,0.6378886103630066,0.5981950163841248,0.5971104502677917,0.5869815945625305,0.5439540147781372,0.5291721224784851,0.594260036945343,0.47539082169532776,0.4765273928642273,0.5048103928565979,0.38339459896087646,0.4023871421813965,0.38491058349609375,0.36765867471694946,0.36636456847190857,0.342461496591568,0.3509800136089325,0.3527337312698364,0.362798810005188,0.31905439496040344,0.3290386497974396,0.3020567297935486,0.3455543518066406,0.290229469537735,0.33468517661094666,0.3156099021434784,0.29441502690315247,0.3231976628303528,0.32014498114585876,0.33262449502944946,0.3367135226726532],\"type\":\"scatter\"}],                        {\"title\":{\"text\":\"Loss\"},\"xaxis\":{\"title\":{\"text\":\"epochs\"}},\"yaxis\":{\"title\":{\"text\":\"\"}},\"template\":{\"data\":{\"histogram2dcontour\":[{\"type\":\"histogram2dcontour\",\"colorbar\":{\"outlinewidth\":0,\"ticks\":\"\"},\"colorscale\":[[0.0,\"#0d0887\"],[0.1111111111111111,\"#46039f\"],[0.2222222222222222,\"#7201a8\"],[0.3333333333333333,\"#9c179e\"],[0.4444444444444444,\"#bd3786\"],[0.5555555555555556,\"#d8576b\"],[0.6666666666666666,\"#ed7953\"],[0.7777777777777778,\"#fb9f3a\"],[0.8888888888888888,\"#fdca26\"],[1.0,\"#f0f921\"]]}],\"choropleth\":[{\"type\":\"choropleth\",\"colorbar\":{\"outlinewidth\":0,\"ticks\":\"\"}}],\"histogram2d\":[{\"type\":\"histogram2d\",\"colorbar\":{\"outlinewidth\":0,\"ticks\":\"\"},\"colorscale\":[[0.0,\"#0d0887\"],[0.1111111111111111,\"#46039f\"],[0.2222222222222222,\"#7201a8\"],[0.3333333333333333,\"#9c179e\"],[0.4444444444444444,\"#bd3786\"],[0.5555555555555556,\"#d8576b\"],[0.6666666666666666,\"#ed7953\"],[0.7777777777777778,\"#fb9f3a\"],[0.8888888888888888,\"#fdca26\"],[1.0,\"#f0f921\"]]}],\"heatmap\":[{\"type\":\"heatmap\",\"colorbar\":{\"outlinewidth\":0,\"ticks\":\"\"},\"colorscale\":[[0.0,\"#0d0887\"],[0.1111111111111111,\"#46039f\"],[0.2222222222222222,\"#7201a8\"],[0.3333333333333333,\"#9c179e\"],[0.4444444444444444,\"#bd3786\"],[0.5555555555555556,\"#d8576b\"],[0.6666666666666666,\"#ed7953\"],[0.7777777777777778,\"#fb9f3a\"],[0.8888888888888888,\"#fdca26\"],[1.0,\"#f0f921\"]]}],\"heatmapgl\":[{\"type\":\"heatmapgl\",\"colorbar\":{\"outlinewidth\":0,\"ticks\":\"\"},\"colorscale\":[[0.0,\"#0d0887\"],[0.1111111111111111,\"#46039f\"],[0.2222222222222222,\"#7201a8\"],[0.3333333333333333,\"#9c179e\"],[0.4444444444444444,\"#bd3786\"],[0.5555555555555556,\"#d8576b\"],[0.6666666666666666,\"#ed7953\"],[0.7777777777777778,\"#fb9f3a\"],[0.8888888888888888,\"#fdca26\"],[1.0,\"#f0f921\"]]}],\"contourcarpet\":[{\"type\":\"contourcarpet\",\"colorbar\":{\"outlinewidth\":0,\"ticks\":\"\"}}],\"contour\":[{\"type\":\"contour\",\"colorbar\":{\"outlinewidth\":0,\"ticks\":\"\"},\"colorscale\":[[0.0,\"#0d0887\"],[0.1111111111111111,\"#46039f\"],[0.2222222222222222,\"#7201a8\"],[0.3333333333333333,\"#9c179e\"],[0.4444444444444444,\"#bd3786\"],[0.5555555555555556,\"#d8576b\"],[0.6666666666666666,\"#ed7953\"],[0.7777777777777778,\"#fb9f3a\"],[0.8888888888888888,\"#fdca26\"],[1.0,\"#f0f921\"]]}],\"surface\":[{\"type\":\"surface\",\"colorbar\":{\"outlinewidth\":0,\"ticks\":\"\"},\"colorscale\":[[0.0,\"#0d0887\"],[0.1111111111111111,\"#46039f\"],[0.2222222222222222,\"#7201a8\"],[0.3333333333333333,\"#9c179e\"],[0.4444444444444444,\"#bd3786\"],[0.5555555555555556,\"#d8576b\"],[0.6666666666666666,\"#ed7953\"],[0.7777777777777778,\"#fb9f3a\"],[0.8888888888888888,\"#fdca26\"],[1.0,\"#f0f921\"]]}],\"mesh3d\":[{\"type\":\"mesh3d\",\"colorbar\":{\"outlinewidth\":0,\"ticks\":\"\"}}],\"scatter\":[{\"fillpattern\":{\"fillmode\":\"overlay\",\"size\":10,\"solidity\":0.2},\"type\":\"scatter\"}],\"parcoords\":[{\"type\":\"parcoords\",\"line\":{\"colorbar\":{\"outlinewidth\":0,\"ticks\":\"\"}}}],\"scatterpolargl\":[{\"type\":\"scatterpolargl\",\"marker\":{\"colorbar\":{\"outlinewidth\":0,\"ticks\":\"\"}}}],\"bar\":[{\"error_x\":{\"color\":\"#2a3f5f\"},\"error_y\":{\"color\":\"#2a3f5f\"},\"marker\":{\"line\":{\"color\":\"#E5ECF6\",\"width\":0.5},\"pattern\":{\"fillmode\":\"overlay\",\"size\":10,\"solidity\":0.2}},\"type\":\"bar\"}],\"scattergeo\":[{\"type\":\"scattergeo\",\"marker\":{\"colorbar\":{\"outlinewidth\":0,\"ticks\":\"\"}}}],\"scatterpolar\":[{\"type\":\"scatterpolar\",\"marker\":{\"colorbar\":{\"outlinewidth\":0,\"ticks\":\"\"}}}],\"histogram\":[{\"marker\":{\"pattern\":{\"fillmode\":\"overlay\",\"size\":10,\"solidity\":0.2}},\"type\":\"histogram\"}],\"scattergl\":[{\"type\":\"scattergl\",\"marker\":{\"colorbar\":{\"outlinewidth\":0,\"ticks\":\"\"}}}],\"scatter3d\":[{\"type\":\"scatter3d\",\"line\":{\"colorbar\":{\"outlinewidth\":0,\"ticks\":\"\"}},\"marker\":{\"colorbar\":{\"outlinewidth\":0,\"ticks\":\"\"}}}],\"scattermapbox\":[{\"type\":\"scattermapbox\",\"marker\":{\"colorbar\":{\"outlinewidth\":0,\"ticks\":\"\"}}}],\"scatterternary\":[{\"type\":\"scatterternary\",\"marker\":{\"colorbar\":{\"outlinewidth\":0,\"ticks\":\"\"}}}],\"scattercarpet\":[{\"type\":\"scattercarpet\",\"marker\":{\"colorbar\":{\"outlinewidth\":0,\"ticks\":\"\"}}}],\"carpet\":[{\"aaxis\":{\"endlinecolor\":\"#2a3f5f\",\"gridcolor\":\"white\",\"linecolor\":\"white\",\"minorgridcolor\":\"white\",\"startlinecolor\":\"#2a3f5f\"},\"baxis\":{\"endlinecolor\":\"#2a3f5f\",\"gridcolor\":\"white\",\"linecolor\":\"white\",\"minorgridcolor\":\"white\",\"startlinecolor\":\"#2a3f5f\"},\"type\":\"carpet\"}],\"table\":[{\"cells\":{\"fill\":{\"color\":\"#EBF0F8\"},\"line\":{\"color\":\"white\"}},\"header\":{\"fill\":{\"color\":\"#C8D4E3\"},\"line\":{\"color\":\"white\"}},\"type\":\"table\"}],\"barpolar\":[{\"marker\":{\"line\":{\"color\":\"#E5ECF6\",\"width\":0.5},\"pattern\":{\"fillmode\":\"overlay\",\"size\":10,\"solidity\":0.2}},\"type\":\"barpolar\"}],\"pie\":[{\"automargin\":true,\"type\":\"pie\"}]},\"layout\":{\"autotypenumbers\":\"strict\",\"colorway\":[\"#636efa\",\"#EF553B\",\"#00cc96\",\"#ab63fa\",\"#FFA15A\",\"#19d3f3\",\"#FF6692\",\"#B6E880\",\"#FF97FF\",\"#FECB52\"],\"font\":{\"color\":\"#2a3f5f\"},\"hovermode\":\"closest\",\"hoverlabel\":{\"align\":\"left\"},\"paper_bgcolor\":\"white\",\"plot_bgcolor\":\"#E5ECF6\",\"polar\":{\"bgcolor\":\"#E5ECF6\",\"angularaxis\":{\"gridcolor\":\"white\",\"linecolor\":\"white\",\"ticks\":\"\"},\"radialaxis\":{\"gridcolor\":\"white\",\"linecolor\":\"white\",\"ticks\":\"\"}},\"ternary\":{\"bgcolor\":\"#E5ECF6\",\"aaxis\":{\"gridcolor\":\"white\",\"linecolor\":\"white\",\"ticks\":\"\"},\"baxis\":{\"gridcolor\":\"white\",\"linecolor\":\"white\",\"ticks\":\"\"},\"caxis\":{\"gridcolor\":\"white\",\"linecolor\":\"white\",\"ticks\":\"\"}},\"coloraxis\":{\"colorbar\":{\"outlinewidth\":0,\"ticks\":\"\"}},\"colorscale\":{\"sequential\":[[0.0,\"#0d0887\"],[0.1111111111111111,\"#46039f\"],[0.2222222222222222,\"#7201a8\"],[0.3333333333333333,\"#9c179e\"],[0.4444444444444444,\"#bd3786\"],[0.5555555555555556,\"#d8576b\"],[0.6666666666666666,\"#ed7953\"],[0.7777777777777778,\"#fb9f3a\"],[0.8888888888888888,\"#fdca26\"],[1.0,\"#f0f921\"]],\"sequentialminus\":[[0.0,\"#0d0887\"],[0.1111111111111111,\"#46039f\"],[0.2222222222222222,\"#7201a8\"],[0.3333333333333333,\"#9c179e\"],[0.4444444444444444,\"#bd3786\"],[0.5555555555555556,\"#d8576b\"],[0.6666666666666666,\"#ed7953\"],[0.7777777777777778,\"#fb9f3a\"],[0.8888888888888888,\"#fdca26\"],[1.0,\"#f0f921\"]],\"diverging\":[[0,\"#8e0152\"],[0.1,\"#c51b7d\"],[0.2,\"#de77ae\"],[0.3,\"#f1b6da\"],[0.4,\"#fde0ef\"],[0.5,\"#f7f7f7\"],[0.6,\"#e6f5d0\"],[0.7,\"#b8e186\"],[0.8,\"#7fbc41\"],[0.9,\"#4d9221\"],[1,\"#276419\"]]},\"xaxis\":{\"gridcolor\":\"white\",\"linecolor\":\"white\",\"ticks\":\"\",\"title\":{\"standoff\":15},\"zerolinecolor\":\"white\",\"automargin\":true,\"zerolinewidth\":2},\"yaxis\":{\"gridcolor\":\"white\",\"linecolor\":\"white\",\"ticks\":\"\",\"title\":{\"standoff\":15},\"zerolinecolor\":\"white\",\"automargin\":true,\"zerolinewidth\":2},\"scene\":{\"xaxis\":{\"backgroundcolor\":\"#E5ECF6\",\"gridcolor\":\"white\",\"linecolor\":\"white\",\"showbackground\":true,\"ticks\":\"\",\"zerolinecolor\":\"white\",\"gridwidth\":2},\"yaxis\":{\"backgroundcolor\":\"#E5ECF6\",\"gridcolor\":\"white\",\"linecolor\":\"white\",\"showbackground\":true,\"ticks\":\"\",\"zerolinecolor\":\"white\",\"gridwidth\":2},\"zaxis\":{\"backgroundcolor\":\"#E5ECF6\",\"gridcolor\":\"white\",\"linecolor\":\"white\",\"showbackground\":true,\"ticks\":\"\",\"zerolinecolor\":\"white\",\"gridwidth\":2}},\"shapedefaults\":{\"line\":{\"color\":\"#2a3f5f\"}},\"annotationdefaults\":{\"arrowcolor\":\"#2a3f5f\",\"arrowhead\":0,\"arrowwidth\":1},\"geo\":{\"bgcolor\":\"white\",\"landcolor\":\"#E5ECF6\",\"subunitcolor\":\"white\",\"showland\":true,\"showlakes\":true,\"lakecolor\":\"white\"},\"title\":{\"x\":0.05},\"mapbox\":{\"style\":\"light\"}}}},                        {\"responsive\": true}                    ).then(function(){\n",
              "                            \n",
              "var gd = document.getElementById('a49f61d5-93b5-417d-be39-11a556631b5c');\n",
              "var x = new MutationObserver(function (mutations, observer) {{\n",
              "        var display = window.getComputedStyle(gd).display;\n",
              "        if (!display || display === 'none') {{\n",
              "            console.log([gd, 'removed!']);\n",
              "            Plotly.purge(gd);\n",
              "            observer.disconnect();\n",
              "        }}\n",
              "}});\n",
              "\n",
              "// Listen for the removal of the full notebook cells\n",
              "var notebookContainer = gd.closest('#notebook-container');\n",
              "if (notebookContainer) {{\n",
              "    x.observe(notebookContainer, {childList: true});\n",
              "}}\n",
              "\n",
              "// Listen for the clearing of the current output cell\n",
              "var outputEl = gd.closest('.output');\n",
              "if (outputEl) {{\n",
              "    x.observe(outputEl, {childList: true});\n",
              "}}\n",
              "\n",
              "                        })                };                            </script>        </div>\n",
              "</body>\n",
              "</html>"
            ]
          },
          "metadata": {}
        }
      ]
    },
    {
      "cell_type": "code",
      "source": [
        "h1 = go.Scatter(y=his.history['accuracy'],\n",
        "                    mode=\"lines\", line=dict(\n",
        "                    width=2,\n",
        "                    color='blue'),\n",
        "                    name=\"acc\"\n",
        "                   )\n",
        "h2 = go.Scatter(y=his.history['val_accuracy'],\n",
        "                    mode=\"lines\", line=dict(\n",
        "                    width=2,\n",
        "                    color='red'),\n",
        "                    name=\"val_acc\"\n",
        "                   )\n",
        "\n",
        "data = [h1,h2]\n",
        "layout1 = go.Layout(title='Accuracy',\n",
        "                   xaxis=dict(title='epochs'),\n",
        "                   yaxis=dict(title=''))\n",
        "fig2 = go.Figure(data = data, layout=layout1)\n",
        "fig2.show()"
      ],
      "metadata": {
        "colab": {
          "base_uri": "https://localhost:8080/",
          "height": 542
        },
        "id": "ZfpBrPV_mbum",
        "outputId": "f2eb214c-3979-4e9b-fd92-4400b705620c"
      },
      "execution_count": 142,
      "outputs": [
        {
          "output_type": "display_data",
          "data": {
            "text/html": [
              "<html>\n",
              "<head><meta charset=\"utf-8\" /></head>\n",
              "<body>\n",
              "    <div>            <script src=\"https://cdnjs.cloudflare.com/ajax/libs/mathjax/2.7.5/MathJax.js?config=TeX-AMS-MML_SVG\"></script><script type=\"text/javascript\">if (window.MathJax && window.MathJax.Hub && window.MathJax.Hub.Config) {window.MathJax.Hub.Config({SVG: {font: \"STIX-Web\"}});}</script>                <script type=\"text/javascript\">window.PlotlyConfig = {MathJaxConfig: 'local'};</script>\n",
              "        <script charset=\"utf-8\" src=\"https://cdn.plot.ly/plotly-2.35.2.min.js\"></script>                <div id=\"264c1598-6233-4d8e-9ed1-4ab50b1dd309\" class=\"plotly-graph-div\" style=\"height:525px; width:100%;\"></div>            <script type=\"text/javascript\">                                    window.PLOTLYENV=window.PLOTLYENV || {};                                    if (document.getElementById(\"264c1598-6233-4d8e-9ed1-4ab50b1dd309\")) {                    Plotly.newPlot(                        \"264c1598-6233-4d8e-9ed1-4ab50b1dd309\",                        [{\"line\":{\"color\":\"blue\",\"width\":2},\"mode\":\"lines\",\"name\":\"acc\",\"y\":[0.5288461446762085,0.7403846383094788,0.692307710647583,0.4326923191547394,0.7403846383094788,0.692307710647583,0.5480769276618958,0.7692307829856873,0.7788461446762085,0.7980769276618958,0.8365384340286255,0.8413461446762085,0.8605769276618958,0.7884615659713745,0.8653846383094788,0.8653846383094788,0.8221153616905212,0.875,0.9086538553237915,0.9038461446762085,0.8942307829856873,0.8846153616905212,0.9038461446762085,0.8894230723381042,0.9182692170143127,0.9086538553237915,0.9086538553237915,0.9086538553237915,0.932692289352417,0.9038461446762085,0.9230769276618958,0.9278846383094788,0.9375,0.9134615659713745,0.9230769276618958,0.942307710647583,0.9038461446762085,0.9134615659713745,0.9278846383094788,0.9278846383094788,0.9278846383094788,0.9471153616905212,0.932692289352417,0.9375,0.932692289352417,0.9471153616905212,0.9278846383094788,0.9471153616905212,0.9471153616905212,0.9567307829856873],\"type\":\"scatter\"},{\"line\":{\"color\":\"red\",\"width\":2},\"mode\":\"lines\",\"name\":\"val_acc\",\"y\":[0.7168674468994141,0.7168674468994141,0.28313252329826355,0.7168674468994141,0.7168674468994141,0.7168674468994141,0.7168674468994141,0.7168674468994141,0.7168674468994141,0.7168674468994141,0.7168674468994141,0.7168674468994141,0.7168674468994141,0.7168674468994141,0.7168674468994141,0.7469879388809204,0.7228915691375732,0.7168674468994141,0.740963876247406,0.740963876247406,0.7469879388809204,0.759036123752594,0.759036123752594,0.7710843086242676,0.7771084308624268,0.759036123752594,0.8012048006057739,0.8012048006057739,0.7891566157341003,0.8192771077156067,0.8072289228439331,0.8132529854774475,0.8253012299537659,0.8313252925872803,0.8433734774589539,0.8433734774589539,0.8433734774589539,0.8373494148254395,0.849397599697113,0.849397599697113,0.8734939694404602,0.8433734774589539,0.8975903391838074,0.8433734774589539,0.8554216623306274,0.8734939694404602,0.849397599697113,0.8554216623306274,0.849397599697113,0.849397599697113],\"type\":\"scatter\"}],                        {\"title\":{\"text\":\"Accuracy\"},\"xaxis\":{\"title\":{\"text\":\"epochs\"}},\"yaxis\":{\"title\":{\"text\":\"\"}},\"template\":{\"data\":{\"histogram2dcontour\":[{\"type\":\"histogram2dcontour\",\"colorbar\":{\"outlinewidth\":0,\"ticks\":\"\"},\"colorscale\":[[0.0,\"#0d0887\"],[0.1111111111111111,\"#46039f\"],[0.2222222222222222,\"#7201a8\"],[0.3333333333333333,\"#9c179e\"],[0.4444444444444444,\"#bd3786\"],[0.5555555555555556,\"#d8576b\"],[0.6666666666666666,\"#ed7953\"],[0.7777777777777778,\"#fb9f3a\"],[0.8888888888888888,\"#fdca26\"],[1.0,\"#f0f921\"]]}],\"choropleth\":[{\"type\":\"choropleth\",\"colorbar\":{\"outlinewidth\":0,\"ticks\":\"\"}}],\"histogram2d\":[{\"type\":\"histogram2d\",\"colorbar\":{\"outlinewidth\":0,\"ticks\":\"\"},\"colorscale\":[[0.0,\"#0d0887\"],[0.1111111111111111,\"#46039f\"],[0.2222222222222222,\"#7201a8\"],[0.3333333333333333,\"#9c179e\"],[0.4444444444444444,\"#bd3786\"],[0.5555555555555556,\"#d8576b\"],[0.6666666666666666,\"#ed7953\"],[0.7777777777777778,\"#fb9f3a\"],[0.8888888888888888,\"#fdca26\"],[1.0,\"#f0f921\"]]}],\"heatmap\":[{\"type\":\"heatmap\",\"colorbar\":{\"outlinewidth\":0,\"ticks\":\"\"},\"colorscale\":[[0.0,\"#0d0887\"],[0.1111111111111111,\"#46039f\"],[0.2222222222222222,\"#7201a8\"],[0.3333333333333333,\"#9c179e\"],[0.4444444444444444,\"#bd3786\"],[0.5555555555555556,\"#d8576b\"],[0.6666666666666666,\"#ed7953\"],[0.7777777777777778,\"#fb9f3a\"],[0.8888888888888888,\"#fdca26\"],[1.0,\"#f0f921\"]]}],\"heatmapgl\":[{\"type\":\"heatmapgl\",\"colorbar\":{\"outlinewidth\":0,\"ticks\":\"\"},\"colorscale\":[[0.0,\"#0d0887\"],[0.1111111111111111,\"#46039f\"],[0.2222222222222222,\"#7201a8\"],[0.3333333333333333,\"#9c179e\"],[0.4444444444444444,\"#bd3786\"],[0.5555555555555556,\"#d8576b\"],[0.6666666666666666,\"#ed7953\"],[0.7777777777777778,\"#fb9f3a\"],[0.8888888888888888,\"#fdca26\"],[1.0,\"#f0f921\"]]}],\"contourcarpet\":[{\"type\":\"contourcarpet\",\"colorbar\":{\"outlinewidth\":0,\"ticks\":\"\"}}],\"contour\":[{\"type\":\"contour\",\"colorbar\":{\"outlinewidth\":0,\"ticks\":\"\"},\"colorscale\":[[0.0,\"#0d0887\"],[0.1111111111111111,\"#46039f\"],[0.2222222222222222,\"#7201a8\"],[0.3333333333333333,\"#9c179e\"],[0.4444444444444444,\"#bd3786\"],[0.5555555555555556,\"#d8576b\"],[0.6666666666666666,\"#ed7953\"],[0.7777777777777778,\"#fb9f3a\"],[0.8888888888888888,\"#fdca26\"],[1.0,\"#f0f921\"]]}],\"surface\":[{\"type\":\"surface\",\"colorbar\":{\"outlinewidth\":0,\"ticks\":\"\"},\"colorscale\":[[0.0,\"#0d0887\"],[0.1111111111111111,\"#46039f\"],[0.2222222222222222,\"#7201a8\"],[0.3333333333333333,\"#9c179e\"],[0.4444444444444444,\"#bd3786\"],[0.5555555555555556,\"#d8576b\"],[0.6666666666666666,\"#ed7953\"],[0.7777777777777778,\"#fb9f3a\"],[0.8888888888888888,\"#fdca26\"],[1.0,\"#f0f921\"]]}],\"mesh3d\":[{\"type\":\"mesh3d\",\"colorbar\":{\"outlinewidth\":0,\"ticks\":\"\"}}],\"scatter\":[{\"fillpattern\":{\"fillmode\":\"overlay\",\"size\":10,\"solidity\":0.2},\"type\":\"scatter\"}],\"parcoords\":[{\"type\":\"parcoords\",\"line\":{\"colorbar\":{\"outlinewidth\":0,\"ticks\":\"\"}}}],\"scatterpolargl\":[{\"type\":\"scatterpolargl\",\"marker\":{\"colorbar\":{\"outlinewidth\":0,\"ticks\":\"\"}}}],\"bar\":[{\"error_x\":{\"color\":\"#2a3f5f\"},\"error_y\":{\"color\":\"#2a3f5f\"},\"marker\":{\"line\":{\"color\":\"#E5ECF6\",\"width\":0.5},\"pattern\":{\"fillmode\":\"overlay\",\"size\":10,\"solidity\":0.2}},\"type\":\"bar\"}],\"scattergeo\":[{\"type\":\"scattergeo\",\"marker\":{\"colorbar\":{\"outlinewidth\":0,\"ticks\":\"\"}}}],\"scatterpolar\":[{\"type\":\"scatterpolar\",\"marker\":{\"colorbar\":{\"outlinewidth\":0,\"ticks\":\"\"}}}],\"histogram\":[{\"marker\":{\"pattern\":{\"fillmode\":\"overlay\",\"size\":10,\"solidity\":0.2}},\"type\":\"histogram\"}],\"scattergl\":[{\"type\":\"scattergl\",\"marker\":{\"colorbar\":{\"outlinewidth\":0,\"ticks\":\"\"}}}],\"scatter3d\":[{\"type\":\"scatter3d\",\"line\":{\"colorbar\":{\"outlinewidth\":0,\"ticks\":\"\"}},\"marker\":{\"colorbar\":{\"outlinewidth\":0,\"ticks\":\"\"}}}],\"scattermapbox\":[{\"type\":\"scattermapbox\",\"marker\":{\"colorbar\":{\"outlinewidth\":0,\"ticks\":\"\"}}}],\"scatterternary\":[{\"type\":\"scatterternary\",\"marker\":{\"colorbar\":{\"outlinewidth\":0,\"ticks\":\"\"}}}],\"scattercarpet\":[{\"type\":\"scattercarpet\",\"marker\":{\"colorbar\":{\"outlinewidth\":0,\"ticks\":\"\"}}}],\"carpet\":[{\"aaxis\":{\"endlinecolor\":\"#2a3f5f\",\"gridcolor\":\"white\",\"linecolor\":\"white\",\"minorgridcolor\":\"white\",\"startlinecolor\":\"#2a3f5f\"},\"baxis\":{\"endlinecolor\":\"#2a3f5f\",\"gridcolor\":\"white\",\"linecolor\":\"white\",\"minorgridcolor\":\"white\",\"startlinecolor\":\"#2a3f5f\"},\"type\":\"carpet\"}],\"table\":[{\"cells\":{\"fill\":{\"color\":\"#EBF0F8\"},\"line\":{\"color\":\"white\"}},\"header\":{\"fill\":{\"color\":\"#C8D4E3\"},\"line\":{\"color\":\"white\"}},\"type\":\"table\"}],\"barpolar\":[{\"marker\":{\"line\":{\"color\":\"#E5ECF6\",\"width\":0.5},\"pattern\":{\"fillmode\":\"overlay\",\"size\":10,\"solidity\":0.2}},\"type\":\"barpolar\"}],\"pie\":[{\"automargin\":true,\"type\":\"pie\"}]},\"layout\":{\"autotypenumbers\":\"strict\",\"colorway\":[\"#636efa\",\"#EF553B\",\"#00cc96\",\"#ab63fa\",\"#FFA15A\",\"#19d3f3\",\"#FF6692\",\"#B6E880\",\"#FF97FF\",\"#FECB52\"],\"font\":{\"color\":\"#2a3f5f\"},\"hovermode\":\"closest\",\"hoverlabel\":{\"align\":\"left\"},\"paper_bgcolor\":\"white\",\"plot_bgcolor\":\"#E5ECF6\",\"polar\":{\"bgcolor\":\"#E5ECF6\",\"angularaxis\":{\"gridcolor\":\"white\",\"linecolor\":\"white\",\"ticks\":\"\"},\"radialaxis\":{\"gridcolor\":\"white\",\"linecolor\":\"white\",\"ticks\":\"\"}},\"ternary\":{\"bgcolor\":\"#E5ECF6\",\"aaxis\":{\"gridcolor\":\"white\",\"linecolor\":\"white\",\"ticks\":\"\"},\"baxis\":{\"gridcolor\":\"white\",\"linecolor\":\"white\",\"ticks\":\"\"},\"caxis\":{\"gridcolor\":\"white\",\"linecolor\":\"white\",\"ticks\":\"\"}},\"coloraxis\":{\"colorbar\":{\"outlinewidth\":0,\"ticks\":\"\"}},\"colorscale\":{\"sequential\":[[0.0,\"#0d0887\"],[0.1111111111111111,\"#46039f\"],[0.2222222222222222,\"#7201a8\"],[0.3333333333333333,\"#9c179e\"],[0.4444444444444444,\"#bd3786\"],[0.5555555555555556,\"#d8576b\"],[0.6666666666666666,\"#ed7953\"],[0.7777777777777778,\"#fb9f3a\"],[0.8888888888888888,\"#fdca26\"],[1.0,\"#f0f921\"]],\"sequentialminus\":[[0.0,\"#0d0887\"],[0.1111111111111111,\"#46039f\"],[0.2222222222222222,\"#7201a8\"],[0.3333333333333333,\"#9c179e\"],[0.4444444444444444,\"#bd3786\"],[0.5555555555555556,\"#d8576b\"],[0.6666666666666666,\"#ed7953\"],[0.7777777777777778,\"#fb9f3a\"],[0.8888888888888888,\"#fdca26\"],[1.0,\"#f0f921\"]],\"diverging\":[[0,\"#8e0152\"],[0.1,\"#c51b7d\"],[0.2,\"#de77ae\"],[0.3,\"#f1b6da\"],[0.4,\"#fde0ef\"],[0.5,\"#f7f7f7\"],[0.6,\"#e6f5d0\"],[0.7,\"#b8e186\"],[0.8,\"#7fbc41\"],[0.9,\"#4d9221\"],[1,\"#276419\"]]},\"xaxis\":{\"gridcolor\":\"white\",\"linecolor\":\"white\",\"ticks\":\"\",\"title\":{\"standoff\":15},\"zerolinecolor\":\"white\",\"automargin\":true,\"zerolinewidth\":2},\"yaxis\":{\"gridcolor\":\"white\",\"linecolor\":\"white\",\"ticks\":\"\",\"title\":{\"standoff\":15},\"zerolinecolor\":\"white\",\"automargin\":true,\"zerolinewidth\":2},\"scene\":{\"xaxis\":{\"backgroundcolor\":\"#E5ECF6\",\"gridcolor\":\"white\",\"linecolor\":\"white\",\"showbackground\":true,\"ticks\":\"\",\"zerolinecolor\":\"white\",\"gridwidth\":2},\"yaxis\":{\"backgroundcolor\":\"#E5ECF6\",\"gridcolor\":\"white\",\"linecolor\":\"white\",\"showbackground\":true,\"ticks\":\"\",\"zerolinecolor\":\"white\",\"gridwidth\":2},\"zaxis\":{\"backgroundcolor\":\"#E5ECF6\",\"gridcolor\":\"white\",\"linecolor\":\"white\",\"showbackground\":true,\"ticks\":\"\",\"zerolinecolor\":\"white\",\"gridwidth\":2}},\"shapedefaults\":{\"line\":{\"color\":\"#2a3f5f\"}},\"annotationdefaults\":{\"arrowcolor\":\"#2a3f5f\",\"arrowhead\":0,\"arrowwidth\":1},\"geo\":{\"bgcolor\":\"white\",\"landcolor\":\"#E5ECF6\",\"subunitcolor\":\"white\",\"showland\":true,\"showlakes\":true,\"lakecolor\":\"white\"},\"title\":{\"x\":0.05},\"mapbox\":{\"style\":\"light\"}}}},                        {\"responsive\": true}                    ).then(function(){\n",
              "                            \n",
              "var gd = document.getElementById('264c1598-6233-4d8e-9ed1-4ab50b1dd309');\n",
              "var x = new MutationObserver(function (mutations, observer) {{\n",
              "        var display = window.getComputedStyle(gd).display;\n",
              "        if (!display || display === 'none') {{\n",
              "            console.log([gd, 'removed!']);\n",
              "            Plotly.purge(gd);\n",
              "            observer.disconnect();\n",
              "        }}\n",
              "}});\n",
              "\n",
              "// Listen for the removal of the full notebook cells\n",
              "var notebookContainer = gd.closest('#notebook-container');\n",
              "if (notebookContainer) {{\n",
              "    x.observe(notebookContainer, {childList: true});\n",
              "}}\n",
              "\n",
              "// Listen for the clearing of the current output cell\n",
              "var outputEl = gd.closest('.output');\n",
              "if (outputEl) {{\n",
              "    x.observe(outputEl, {childList: true});\n",
              "}}\n",
              "\n",
              "                        })                };                            </script>        </div>\n",
              "</body>\n",
              "</html>"
            ]
          },
          "metadata": {}
        }
      ]
    },
    {
      "cell_type": "code",
      "source": [
        "from tensorflow import keras\n",
        "\n",
        "model = keras.models.load_model(\"/content/best_model.keras\")\n",
        "model.compile(loss='categorical_crossentropy', metrics=['accuracy'], optimizer='adam')"
      ],
      "metadata": {
        "id": "_OvPB2Xgmftt"
      },
      "execution_count": 143,
      "outputs": []
    },
    {
      "cell_type": "code",
      "source": [
        "test_res = model.evaluate(x_test, y_test, verbose=0, return_dict=True)\n",
        "val_res   = model.evaluate(x_val,   y_val,   verbose=0, return_dict=True)\n",
        "\n",
        "acc_key = next(k for k in test_res.keys() if k in\n",
        "               ('accuracy', 'binary_accuracy', 'categorical_accuracy',\n",
        "                'sparse_categorical_accuracy'))\n",
        "\n",
        "print(f\"Testing  - loss: {test_res['loss']:.4f}, acc: {test_res[acc_key]:.4f}\")\n",
        "print(f\"Validation- loss: {val_res['loss']:.4f}, acc: {val_res[acc_key]:.4f}\")"
      ],
      "metadata": {
        "colab": {
          "base_uri": "https://localhost:8080/"
        },
        "id": "3cEu76yHmigo",
        "outputId": "b20aab67-4931-46b5-f652-fb41e9f7ddcc"
      },
      "execution_count": 144,
      "outputs": [
        {
          "output_type": "stream",
          "name": "stdout",
          "text": [
            "Testing  - loss: 0.2270, acc: 0.9471\n",
            "Validation- loss: 0.2902, acc: 0.8976\n"
          ]
        }
      ]
    },
    {
      "cell_type": "code",
      "source": [
        "from sklearn.metrics import confusion_matrix, classification_report\n",
        "import numpy as np\n",
        "\n",
        "y_pred = model.predict(x_val)\n",
        "y_pred_classes = np.argmax(y_pred, axis=1)\n",
        "y_true_classes = np.argmax(y_val, axis=1)"
      ],
      "metadata": {
        "colab": {
          "base_uri": "https://localhost:8080/"
        },
        "id": "yn52CDm5moRW",
        "outputId": "48f2271f-83e8-46ec-c3c8-37442f28ffec"
      },
      "execution_count": 145,
      "outputs": [
        {
          "output_type": "stream",
          "name": "stdout",
          "text": [
            "\u001b[1m6/6\u001b[0m \u001b[32m━━━━━━━━━━━━━━━━━━━━\u001b[0m\u001b[37m\u001b[0m \u001b[1m1s\u001b[0m 67ms/step\n"
          ]
        }
      ]
    },
    {
      "cell_type": "code",
      "source": [
        "cm = confusion_matrix(y_true_classes, y_pred_classes)\n",
        "print(\"Confusion Matrix:\")\n",
        "print(cm)"
      ],
      "metadata": {
        "colab": {
          "base_uri": "https://localhost:8080/"
        },
        "id": "5vK-OtHqmvxB",
        "outputId": "dc1daba9-a76d-45c3-98af-05914eea4b41"
      },
      "execution_count": 146,
      "outputs": [
        {
          "output_type": "stream",
          "name": "stdout",
          "text": [
            "Confusion Matrix:\n",
            "[[119   0]\n",
            " [ 17  30]]\n"
          ]
        }
      ]
    },
    {
      "cell_type": "code",
      "source": [
        "report = classification_report(y_true_classes, y_pred_classes, target_names=['normal', 'abnormal'],digits=4)\n",
        "print(\"\\nClassification Report:\")\n",
        "print(report)"
      ],
      "metadata": {
        "colab": {
          "base_uri": "https://localhost:8080/"
        },
        "id": "9_nH-8VZmxBL",
        "outputId": "cbb029e8-2537-4e64-9e83-bb4404d45005"
      },
      "execution_count": 147,
      "outputs": [
        {
          "output_type": "stream",
          "name": "stdout",
          "text": [
            "\n",
            "Classification Report:\n",
            "              precision    recall  f1-score   support\n",
            "\n",
            "      normal     0.8750    1.0000    0.9333       119\n",
            "    abnormal     1.0000    0.6383    0.7792        47\n",
            "\n",
            "    accuracy                         0.8976       166\n",
            "   macro avg     0.9375    0.8191    0.8563       166\n",
            "weighted avg     0.9104    0.8976    0.8897       166\n",
            "\n"
          ]
        }
      ]
    },
    {
      "cell_type": "code",
      "source": [
        "import seaborn as sns\n",
        "import matplotlib.pyplot as plt\n",
        "\n",
        "plt.figure(figsize=(8, 6))\n",
        "sns.heatmap(cm, annot=True, fmt='d', cmap='Blues', xticklabels=['normal', 'abnormal'], yticklabels=['normal', 'abnormal'])\n",
        "plt.xlabel('Predicted Label')\n",
        "plt.ylabel('True Label')\n",
        "plt.title('Confusion Matrix Heatmap')\n",
        "plt.show()"
      ],
      "metadata": {
        "colab": {
          "base_uri": "https://localhost:8080/",
          "height": 564
        },
        "id": "cLrj-hvnmypU",
        "outputId": "bbee7c32-6c69-4b5f-e37b-512b0462bb87"
      },
      "execution_count": 148,
      "outputs": [
        {
          "output_type": "display_data",
          "data": {
            "text/plain": [
              "<Figure size 800x600 with 2 Axes>"
            ],
            "image/png": "[encoded data removed]"
          },
          "metadata": {}
        }
      ]
    },
    {
      "cell_type": "code",
      "source": [],
      "metadata": {
        "id": "SB6TrI3hm0ov"
      },
      "execution_count": 148,
      "outputs": []
    }
  ]
}